{
 "cells": [
  {
   "cell_type": "code",
   "execution_count": 1,
   "metadata": {},
   "outputs": [],
   "source": [
    "import numpy as np\n",
    "import pandas as pd\n",
    "import matplotlib.pyplot as plt"
   ]
  },
  {
   "cell_type": "code",
   "execution_count": 2,
   "metadata": {},
   "outputs": [],
   "source": [
    "import utilities # codeTimer context manager and saving/loading utilities.\n",
    "import data_preparation # Load dataset and build required matrices.\n",
    "import factorisation # WALS factorisation.\n",
    "import recommender # Recommender system."
   ]
  },
  {
   "cell_type": "markdown",
   "metadata": {},
   "source": [
    "## Loading dataset and creating recommender system"
   ]
  },
  {
   "cell_type": "code",
   "execution_count": 3,
   "metadata": {},
   "outputs": [
    {
     "name": "stdout",
     "output_type": "stream",
     "text": [
      "The dataframe contains 610 users and 9721 items.\n",
      "Prediction MAE: 46.3893943883063\n"
     ]
    }
   ],
   "source": [
    "np.random.seed(17)\n",
    "\n",
    "mov, rat, rat_test = data_preparation.importDataset()\n",
    "k = 100\n",
    "rec = recommender.recommenderSystem(mov, rat, rat_test, k)\n",
    "\n",
    "print(\"Prediction MAE: {}\".format(rec.predictionError()))"
   ]
  },
  {
   "cell_type": "markdown",
   "metadata": {},
   "source": [
    "A pre-trained recommender system can be loaded using the following cell. The pre-trained system has been trained using the whole dataset with $k = 100$ latent factors and 10 iterations.\n",
    "\n",
    "In order to save disk space, the saved system consists only of the item and user embedding matrices. This requires the user to call the previous cell, building the remaining components of the system. "
   ]
  },
  {
   "cell_type": "code",
   "execution_count": 4,
   "metadata": {},
   "outputs": [],
   "source": [
    "#utilities.loadRecSys(rec, \"rec.npz\")"
   ]
  },
  {
   "cell_type": "markdown",
   "metadata": {},
   "source": [
    "## Exploratory analysis"
   ]
  },
  {
   "cell_type": "code",
   "execution_count": null,
   "metadata": {},
   "outputs": [],
   "source": [
    "np.count_nonzero(rec.R)\n",
    "sparsity = np.count_nonzero(rec.R)/np.prod(rec.R.shape)\n",
    "print(\"Matrix sparsity: {}%\".format(sparsity*100))"
   ]
  },
  {
   "cell_type": "code",
   "execution_count": null,
   "metadata": {},
   "outputs": [],
   "source": [
    "# Distribution of number of ratings.\n",
    "from matplotlib.ticker import MaxNLocator\n",
    "plt.rcParams.update({'font.size': 13})\n",
    "\n",
    "n_ratings = [np.count_nonzero(i) for i in rec.R]\n",
    "\n",
    "\n",
    "fig, ax = plt.subplots()\n",
    "\n",
    "ax.hist(n_ratings, bins = 150)\n",
    "\n",
    "ax.set_title(\"Number of ratings histogram\")\n",
    "ax.set_ylabel(\"Users\")\n",
    "y_vals = ax.get_yticks()\n",
    "ax.set_yticklabels(['{:,.0%}'.format(x) for x in y_vals/np.shape(rec.R)[0]])\n",
    "ax.set_xlim(0, 600)\n",
    "ax.set_xlabel(\"Number of ratings\")\n",
    "ax.xaxis.set_major_locator(MaxNLocator(integer = True))\n",
    "\n",
    "plt.savefig(\"plots/n_ratings.pdf\", transparent = True)\n",
    "plt.show()"
   ]
  },
  {
   "cell_type": "code",
   "execution_count": null,
   "metadata": {},
   "outputs": [],
   "source": [
    "# Counting number ratings.\n",
    "rates = rec.R.flatten()\n",
    "rates = rates[rates != 0]\n",
    "unique, counts = np.unique(rates, return_counts = True)\n",
    "\n",
    "fig, ax = plt.subplots()\n",
    "ax.bar(unique, counts / sum(counts), width = 0.4)\n",
    "\n",
    "ax.set_title(\"Distribution of ratings\")\n",
    "\n",
    "y_vals = ax.get_yticks()\n",
    "ax.set_yticklabels(['{:,.0%}'.format(x) for x in y_vals])\n",
    "\n",
    "ax.set_xlabel(\"Rating\")\n",
    "ax.xaxis.set_major_locator(MaxNLocator(integer = False))\n",
    "plt.rcParams['xtick.labelsize'] = 11\n",
    "ax.set_xticks(list(unique))\n",
    "\n",
    "plt.savefig(\"plots/ratings_dist.pdf\", transparent = True)\n",
    "plt.show()"
   ]
  },
  {
   "cell_type": "markdown",
   "metadata": {},
   "source": [
    "## Selecting best regression coefficient with CV"
   ]
  },
  {
   "cell_type": "markdown",
   "metadata": {},
   "source": [
    "Expect ~ 3 hours for the execution of the following cell."
   ]
  },
  {
   "cell_type": "code",
   "execution_count": null,
   "metadata": {},
   "outputs": [],
   "source": [
    "np.random.seed(17)\n",
    "\n",
    "reg_lambda = [0.05, 0.15, 0.30]\n",
    "\n",
    "n_folds = 4\n",
    "n_iter = 4\n",
    "\n",
    "# reg_lambda is required to be a list.\n",
    "with utilities.codeTimer(\"Best regression lambda CV\"):\n",
    "    best_lambda, errors = rec.bestLambdaCV(n_folds, n_iter, reg_lambda)"
   ]
  },
  {
   "cell_type": "code",
   "execution_count": null,
   "metadata": {},
   "outputs": [],
   "source": [
    "# Plotting results.\n",
    "\n",
    "fig, ax = plt.subplots()\n",
    "x = [i + 1 for i in range(n_iter)]\n",
    "for i in range(len(reg_lambda)):\n",
    "    ax.plot(x, errors[i][1])\n",
    "\n",
    "ax.set_title(\"kFoldCV error\")\n",
    "ax.set_ylabel(\"MAE\")\n",
    "ax.set_xlabel(\"Iteration\")\n",
    "ax.xaxis.set_major_locator(MaxNLocator(integer = True))\n",
    "ax.legend(reg_lambda, title = r\"$\\lambda$ values\")\n",
    "\n",
    "plt.savefig(\"plots/TestErrorCV.pdf\", transparent = True)\n",
    "plt.show()"
   ]
  },
  {
   "cell_type": "markdown",
   "metadata": {},
   "source": [
    "## Factorisation"
   ]
  },
  {
   "cell_type": "markdown",
   "metadata": {},
   "source": [
    "Expect ~ 50 minutes for the execution of the following cell."
   ]
  },
  {
   "cell_type": "code",
   "execution_count": null,
   "metadata": {},
   "outputs": [],
   "source": [
    "#reg_lambda = best_lambda\n",
    "reg_lambda = 0.15\n",
    "n_iter = 10\n",
    "\n",
    "with utilities.codeTimer(\"WALS factorisation\"):\n",
    "    train, test = rec.performFactorisation(reg_lambda, n_iter)"
   ]
  },
  {
   "cell_type": "code",
   "execution_count": null,
   "metadata": {},
   "outputs": [],
   "source": [
    "# Plotting results.\n",
    "fig, ax = plt.subplots()\n",
    "x = [i + 1 for i in range(len(test))]\n",
    "ax.plot(x, test)\n",
    "\n",
    "ax.set_title(\"WALS factorisation\")\n",
    "ax.set_ylabel(\"MAE\")\n",
    "#ax.set_ylim(0, 0.9)\n",
    "ax.set_xlabel(\"Iteration\")\n",
    "ax.xaxis.set_major_locator(MaxNLocator(integer = True))\n",
    "\n",
    "plt.savefig(\"plots/WALS_train.pdf\", transparent = True)\n",
    "plt.show()"
   ]
  },
  {
   "cell_type": "markdown",
   "metadata": {},
   "source": [
    "Once the recommander system has been trained, it can be saved to file using the following cell."
   ]
  },
  {
   "cell_type": "code",
   "execution_count": null,
   "metadata": {},
   "outputs": [],
   "source": [
    "#utilities.saveRecSys(rec, \"rec.npz\")"
   ]
  },
  {
   "cell_type": "markdown",
   "metadata": {},
   "source": [
    "## Recommendation"
   ]
  },
  {
   "cell_type": "code",
   "execution_count": 5,
   "metadata": {},
   "outputs": [],
   "source": [
    "def recommend(rec_system, user_id):\n",
    "    return rec_system.answerQuery(user_id)\n",
    "        \n",
    "def bestRated(rec_system, user_id):\n",
    "    user_movies = rec_system.getUserMovies(user_id)\n",
    "    return user_movies.sort_values(by = \"Rating\", ascending = False)"
   ]
  },
  {
   "cell_type": "code",
   "execution_count": 6,
   "metadata": {},
   "outputs": [
    {
     "data": {
      "text/html": [
       "<div>\n",
       "<style scoped>\n",
       "    .dataframe tbody tr th:only-of-type {\n",
       "        vertical-align: middle;\n",
       "    }\n",
       "\n",
       "    .dataframe tbody tr th {\n",
       "        vertical-align: top;\n",
       "    }\n",
       "\n",
       "    .dataframe thead th {\n",
       "        text-align: right;\n",
       "    }\n",
       "</style>\n",
       "<table border=\"1\" class=\"dataframe\">\n",
       "  <thead>\n",
       "    <tr style=\"text-align: right;\">\n",
       "      <th></th>\n",
       "      <th>MovieID</th>\n",
       "      <th>Prediction</th>\n",
       "      <th>Title</th>\n",
       "      <th>Genres</th>\n",
       "      <th>AVG_Rating</th>\n",
       "    </tr>\n",
       "  </thead>\n",
       "  <tbody>\n",
       "    <tr>\n",
       "      <th>2633</th>\n",
       "      <td>2674</td>\n",
       "      <td>3.78</td>\n",
       "      <td>Gladiator (2000)</td>\n",
       "      <td>Action|Adventure|Drama</td>\n",
       "      <td>3.909677</td>\n",
       "    </tr>\n",
       "    <tr>\n",
       "      <th>480</th>\n",
       "      <td>483</td>\n",
       "      <td>3.55</td>\n",
       "      <td>Nightmare Before Christmas, The (1993)</td>\n",
       "      <td>Animation|Children|Fantasy|Musical</td>\n",
       "      <td>3.559783</td>\n",
       "    </tr>\n",
       "    <tr>\n",
       "      <th>944</th>\n",
       "      <td>957</td>\n",
       "      <td>3.28</td>\n",
       "      <td>Shining, The (1980)</td>\n",
       "      <td>Horror</td>\n",
       "      <td>4.074766</td>\n",
       "    </tr>\n",
       "    <tr>\n",
       "      <th>889</th>\n",
       "      <td>902</td>\n",
       "      <td>2.88</td>\n",
       "      <td>Aliens (1986)</td>\n",
       "      <td>Action|Adventure|Horror|Sci-Fi</td>\n",
       "      <td>3.964286</td>\n",
       "    </tr>\n",
       "    <tr>\n",
       "      <th>1037</th>\n",
       "      <td>1055</td>\n",
       "      <td>2.60</td>\n",
       "      <td>Star Trek VI: The Undiscovered Country (1991)</td>\n",
       "      <td>Action|Mystery|Sci-Fi</td>\n",
       "      <td>3.353659</td>\n",
       "    </tr>\n",
       "    <tr>\n",
       "      <th>939</th>\n",
       "      <td>952</td>\n",
       "      <td>2.48</td>\n",
       "      <td>Day the Earth Stood Still, The (1951)</td>\n",
       "      <td>Drama|Sci-Fi|Thriller</td>\n",
       "      <td>3.820000</td>\n",
       "    </tr>\n",
       "    <tr>\n",
       "      <th>6115</th>\n",
       "      <td>6242</td>\n",
       "      <td>2.43</td>\n",
       "      <td>Little Miss Sunshine (2006)</td>\n",
       "      <td>Adventure|Comedy|Drama</td>\n",
       "      <td>3.847826</td>\n",
       "    </tr>\n",
       "    <tr>\n",
       "      <th>913</th>\n",
       "      <td>926</td>\n",
       "      <td>2.39</td>\n",
       "      <td>Amadeus (1984)</td>\n",
       "      <td>Drama</td>\n",
       "      <td>4.184211</td>\n",
       "    </tr>\n",
       "    <tr>\n",
       "      <th>1418</th>\n",
       "      <td>1438</td>\n",
       "      <td>2.38</td>\n",
       "      <td>Rain Man (1988)</td>\n",
       "      <td>Drama</td>\n",
       "      <td>3.781915</td>\n",
       "    </tr>\n",
       "    <tr>\n",
       "      <th>2269</th>\n",
       "      <td>2302</td>\n",
       "      <td>2.37</td>\n",
       "      <td>Dogma (1999)</td>\n",
       "      <td>Adventure|Comedy|Fantasy</td>\n",
       "      <td>3.614865</td>\n",
       "    </tr>\n",
       "  </tbody>\n",
       "</table>\n",
       "</div>"
      ],
      "text/plain": [
       "      MovieID  Prediction                                          Title  \\\n",
       "2633     2674        3.78                               Gladiator (2000)   \n",
       "480       483        3.55         Nightmare Before Christmas, The (1993)   \n",
       "944       957        3.28                            Shining, The (1980)   \n",
       "889       902        2.88                                  Aliens (1986)   \n",
       "1037     1055        2.60  Star Trek VI: The Undiscovered Country (1991)   \n",
       "939       952        2.48          Day the Earth Stood Still, The (1951)   \n",
       "6115     6242        2.43                    Little Miss Sunshine (2006)   \n",
       "913       926        2.39                                 Amadeus (1984)   \n",
       "1418     1438        2.38                                Rain Man (1988)   \n",
       "2269     2302        2.37                                   Dogma (1999)   \n",
       "\n",
       "                                  Genres  AVG_Rating  \n",
       "2633              Action|Adventure|Drama    3.909677  \n",
       "480   Animation|Children|Fantasy|Musical    3.559783  \n",
       "944                               Horror    4.074766  \n",
       "889       Action|Adventure|Horror|Sci-Fi    3.964286  \n",
       "1037               Action|Mystery|Sci-Fi    3.353659  \n",
       "939                Drama|Sci-Fi|Thriller    3.820000  \n",
       "6115              Adventure|Comedy|Drama    3.847826  \n",
       "913                                Drama    4.184211  \n",
       "1418                               Drama    3.781915  \n",
       "2269            Adventure|Comedy|Fantasy    3.614865  "
      ]
     },
     "execution_count": 6,
     "metadata": {},
     "output_type": "execute_result"
    }
   ],
   "source": [
    "user_id = 2\n",
    "recommend(rec, user_id).head(10)"
   ]
  },
  {
   "cell_type": "code",
   "execution_count": 8,
   "metadata": {},
   "outputs": [
    {
     "data": {
      "text/html": [
       "<div>\n",
       "<style scoped>\n",
       "    .dataframe tbody tr th:only-of-type {\n",
       "        vertical-align: middle;\n",
       "    }\n",
       "\n",
       "    .dataframe tbody tr th {\n",
       "        vertical-align: top;\n",
       "    }\n",
       "\n",
       "    .dataframe thead th {\n",
       "        text-align: right;\n",
       "    }\n",
       "</style>\n",
       "<table border=\"1\" class=\"dataframe\">\n",
       "  <thead>\n",
       "    <tr style=\"text-align: right;\">\n",
       "      <th></th>\n",
       "      <th>MovieID</th>\n",
       "      <th>UserID</th>\n",
       "      <th>Genres</th>\n",
       "      <th>Title</th>\n",
       "      <th>Rating</th>\n",
       "    </tr>\n",
       "  </thead>\n",
       "  <tbody>\n",
       "    <tr>\n",
       "      <th>63308</th>\n",
       "      <td>3734</td>\n",
       "      <td>2</td>\n",
       "      <td>Action|Sci-Fi|Thriller</td>\n",
       "      <td>Hangar 18 (1980)</td>\n",
       "      <td>5.0</td>\n",
       "    </tr>\n",
       "    <tr>\n",
       "      <th>46993</th>\n",
       "      <td>2141</td>\n",
       "      <td>2</td>\n",
       "      <td>Adventure|Sci-Fi|Thriller</td>\n",
       "      <td>Saturn 3 (1980)</td>\n",
       "      <td>5.0</td>\n",
       "    </tr>\n",
       "    <tr>\n",
       "      <th>60071</th>\n",
       "      <td>3335</td>\n",
       "      <td>2</td>\n",
       "      <td>Comedy|Horror</td>\n",
       "      <td>The Lair of the White Worm (1988)</td>\n",
       "      <td>5.0</td>\n",
       "    </tr>\n",
       "    <tr>\n",
       "      <th>54483</th>\n",
       "      <td>2765</td>\n",
       "      <td>2</td>\n",
       "      <td>Action|Adventure|Sci-Fi|Thriller</td>\n",
       "      <td>Road Warrior, The (Mad Max 2) (1981)</td>\n",
       "      <td>5.0</td>\n",
       "    </tr>\n",
       "    <tr>\n",
       "      <th>18806</th>\n",
       "      <td>656</td>\n",
       "      <td>2</td>\n",
       "      <td>Action|Adventure|Sci-Fi|Thriller</td>\n",
       "      <td>Escape from L.A. (1996)</td>\n",
       "      <td>5.0</td>\n",
       "    </tr>\n",
       "    <tr>\n",
       "      <th>49044</th>\n",
       "      <td>2280</td>\n",
       "      <td>2</td>\n",
       "      <td>Horror|Sci-Fi</td>\n",
       "      <td>Piranha (1978)</td>\n",
       "      <td>4.5</td>\n",
       "    </tr>\n",
       "    <tr>\n",
       "      <th>31927</th>\n",
       "      <td>1190</td>\n",
       "      <td>2</td>\n",
       "      <td>Action|Adventure|Fantasy</td>\n",
       "      <td>Conan the Barbarian (1982)</td>\n",
       "      <td>4.5</td>\n",
       "    </tr>\n",
       "    <tr>\n",
       "      <th>40058</th>\n",
       "      <td>1701</td>\n",
       "      <td>2</td>\n",
       "      <td>Action|Horror|Sci-Fi|Thriller</td>\n",
       "      <td>Thing, The (1982)</td>\n",
       "      <td>4.0</td>\n",
       "    </tr>\n",
       "    <tr>\n",
       "      <th>27769</th>\n",
       "      <td>974</td>\n",
       "      <td>2</td>\n",
       "      <td>Action|Adventure|Fantasy</td>\n",
       "      <td>Highlander (1986)</td>\n",
       "      <td>3.5</td>\n",
       "    </tr>\n",
       "    <tr>\n",
       "      <th>29401</th>\n",
       "      <td>1054</td>\n",
       "      <td>2</td>\n",
       "      <td>Adventure|Sci-Fi</td>\n",
       "      <td>Star Trek: The Motion Picture (1979)</td>\n",
       "      <td>3.0</td>\n",
       "    </tr>\n",
       "  </tbody>\n",
       "</table>\n",
       "</div>"
      ],
      "text/plain": [
       "       MovieID  UserID                            Genres  \\\n",
       "63308     3734       2            Action|Sci-Fi|Thriller   \n",
       "46993     2141       2         Adventure|Sci-Fi|Thriller   \n",
       "60071     3335       2                     Comedy|Horror   \n",
       "54483     2765       2  Action|Adventure|Sci-Fi|Thriller   \n",
       "18806      656       2  Action|Adventure|Sci-Fi|Thriller   \n",
       "49044     2280       2                     Horror|Sci-Fi   \n",
       "31927     1190       2          Action|Adventure|Fantasy   \n",
       "40058     1701       2     Action|Horror|Sci-Fi|Thriller   \n",
       "27769      974       2          Action|Adventure|Fantasy   \n",
       "29401     1054       2                  Adventure|Sci-Fi   \n",
       "\n",
       "                                      Title  Rating  \n",
       "63308                      Hangar 18 (1980)     5.0  \n",
       "46993                       Saturn 3 (1980)     5.0  \n",
       "60071     The Lair of the White Worm (1988)     5.0  \n",
       "54483  Road Warrior, The (Mad Max 2) (1981)     5.0  \n",
       "18806               Escape from L.A. (1996)     5.0  \n",
       "49044                        Piranha (1978)     4.5  \n",
       "31927            Conan the Barbarian (1982)     4.5  \n",
       "40058                     Thing, The (1982)     4.0  \n",
       "27769                     Highlander (1986)     3.5  \n",
       "29401  Star Trek: The Motion Picture (1979)     3.0  "
      ]
     },
     "execution_count": 8,
     "metadata": {},
     "output_type": "execute_result"
    }
   ],
   "source": [
    "bestRated(rec, user_id).head(10)"
   ]
  },
  {
   "cell_type": "markdown",
   "metadata": {},
   "source": [
    "## Similar items\n",
    "Some suggestions:\n",
    "* 911: Star Wars Episode VI\n",
    "* 3638: The Lord of the Rings: The Fellowship of the Ring\n",
    "* 957: The Shining\n",
    "* 474: Blade Runner"
   ]
  },
  {
   "cell_type": "code",
   "execution_count": 11,
   "metadata": {},
   "outputs": [
    {
     "name": "stdout",
     "output_type": "stream",
     "text": [
      "\\begin{tabular}{rllr}\n",
      "\\toprule\n",
      " MovieID &                                              Title &                            Genres &  Similarity \\\\\n",
      "\\midrule\n",
      "     911 &  Star Wars: Episode VI - Return of the Jedi (1983) &           Action|Adventure|Sci-Fi &    1.000000 \\\\\n",
      "     898 &  Star Wars: Episode V - The Empire Strikes Back... &           Action|Adventure|Sci-Fi &    0.695422 \\\\\n",
      "     510 &                   Silence of the Lambs, The (1991) &             Crime|Horror|Thriller &    0.610512 \\\\\n",
      "     615 &               Independence Day (a.k.a. ID4) (1996) &  Action|Adventure|Sci-Fi|Thriller &    0.589441 \\\\\n",
      "     224 &          Star Wars: Episode IV - A New Hope (1977) &           Action|Adventure|Sci-Fi &    0.552946 \\\\\n",
      "    2674 &                                   Gladiator (2000) &            Action|Adventure|Drama &    0.548113 \\\\\n",
      "\\bottomrule\n",
      "\\end{tabular}\n",
      "\n"
     ]
    }
   ],
   "source": [
    "rec.suggestSimilar(3638)"
   ]
  },
  {
   "cell_type": "markdown",
   "metadata": {},
   "source": [
    "## Assessing results"
   ]
  },
  {
   "cell_type": "markdown",
   "metadata": {},
   "source": [
    "The following two cells may take a few minutes to run. By default there are 10 test observations. If this is the case, the mean precision and the mean recall at 10 are expected to be the same."
   ]
  },
  {
   "cell_type": "code",
   "execution_count": 7,
   "metadata": {},
   "outputs": [
    {
     "name": "stdout",
     "output_type": "stream",
     "text": [
      "Mean precision at 10: 0.02786885245901636\n",
      "Executed 'Mean precision'.  Elapsed time: 108.889906s\n"
     ]
    }
   ],
   "source": [
    "with utilities.codeTimer(\"Mean precision\"):\n",
    "    print(\"Mean precision at 10: {}\".format(rec.meanPrecision(10)))"
   ]
  },
  {
   "cell_type": "code",
   "execution_count": 8,
   "metadata": {},
   "outputs": [
    {
     "name": "stdout",
     "output_type": "stream",
     "text": [
      "Mean recall at 10: 0.02786885245901636\n",
      "Executed 'Mean recall'.  Elapsed time: 112.532156s\n"
     ]
    }
   ],
   "source": [
    "with utilities.codeTimer(\"Mean recall\"):\n",
    "    print(\"Mean recall at 10: {}\".format(rec.meanRecall(10)))"
   ]
  },
  {
   "cell_type": "markdown",
   "metadata": {},
   "source": [
    "## New user recommendation"
   ]
  },
  {
   "cell_type": "code",
   "execution_count": null,
   "metadata": {},
   "outputs": [],
   "source": [
    "np.random.seed(17)\n",
    "\n",
    "new_user, new_user_id = rec.generateNewUser(50)\n",
    "np.shape(rec.R)"
   ]
  },
  {
   "cell_type": "code",
   "execution_count": 10,
   "metadata": {},
   "outputs": [],
   "source": [
    "new_user_id\n",
    "reg_lambda = 0.15"
   ]
  },
  {
   "cell_type": "code",
   "execution_count": 11,
   "metadata": {},
   "outputs": [
    {
     "name": "stdout",
     "output_type": "stream",
     "text": [
      "Executed 'New user factorisation'.  Elapsed time: 0.754067s\n"
     ]
    },
    {
     "data": {
      "text/plain": [
       "(611, 9721)"
      ]
     },
     "execution_count": 11,
     "metadata": {},
     "output_type": "execute_result"
    }
   ],
   "source": [
    "with utilities.codeTimer(\"New user factorisation\"):\n",
    "    rec.addNewUser(new_user, reg_lambda)\n",
    "np.shape(rec.R)"
   ]
  },
  {
   "cell_type": "code",
   "execution_count": 12,
   "metadata": {},
   "outputs": [
    {
     "name": "stdout",
     "output_type": "stream",
     "text": [
      "Too few movies! Most poular movies will be suggested.\n"
     ]
    },
    {
     "data": {
      "text/html": [
       "<div>\n",
       "<style scoped>\n",
       "    .dataframe tbody tr th:only-of-type {\n",
       "        vertical-align: middle;\n",
       "    }\n",
       "\n",
       "    .dataframe tbody tr th {\n",
       "        vertical-align: top;\n",
       "    }\n",
       "\n",
       "    .dataframe thead th {\n",
       "        text-align: right;\n",
       "    }\n",
       "</style>\n",
       "<table border=\"1\" class=\"dataframe\">\n",
       "  <thead>\n",
       "    <tr style=\"text-align: right;\">\n",
       "      <th></th>\n",
       "      <th>MovieID</th>\n",
       "      <th>Title</th>\n",
       "      <th>Genres</th>\n",
       "      <th>AVG_Rating</th>\n",
       "      <th>Counts</th>\n",
       "    </tr>\n",
       "  </thead>\n",
       "  <tbody>\n",
       "    <tr>\n",
       "      <th>314</th>\n",
       "      <td>314</td>\n",
       "      <td>Forrest Gump (1994)</td>\n",
       "      <td>Comedy|Drama|Romance|War</td>\n",
       "      <td>4.173913</td>\n",
       "      <td>322</td>\n",
       "    </tr>\n",
       "    <tr>\n",
       "      <th>277</th>\n",
       "      <td>277</td>\n",
       "      <td>Shawshank Redemption, The (1994)</td>\n",
       "      <td>Crime|Drama</td>\n",
       "      <td>4.431746</td>\n",
       "      <td>315</td>\n",
       "    </tr>\n",
       "    <tr>\n",
       "      <th>257</th>\n",
       "      <td>257</td>\n",
       "      <td>Pulp Fiction (1994)</td>\n",
       "      <td>Comedy|Crime|Drama|Thriller</td>\n",
       "      <td>4.197068</td>\n",
       "      <td>307</td>\n",
       "    </tr>\n",
       "    <tr>\n",
       "      <th>1933</th>\n",
       "      <td>1939</td>\n",
       "      <td>Matrix, The (1999)</td>\n",
       "      <td>Action|Sci-Fi|Thriller</td>\n",
       "      <td>4.182510</td>\n",
       "      <td>263</td>\n",
       "    </tr>\n",
       "    <tr>\n",
       "      <th>224</th>\n",
       "      <td>224</td>\n",
       "      <td>Star Wars: Episode IV - A New Hope (1977)</td>\n",
       "      <td>Action|Adventure|Sci-Fi</td>\n",
       "      <td>4.231076</td>\n",
       "      <td>251</td>\n",
       "    </tr>\n",
       "    <tr>\n",
       "      <th>97</th>\n",
       "      <td>97</td>\n",
       "      <td>Braveheart (1995)</td>\n",
       "      <td>Action|Drama|War</td>\n",
       "      <td>4.031646</td>\n",
       "      <td>237</td>\n",
       "    </tr>\n",
       "    <tr>\n",
       "      <th>509</th>\n",
       "      <td>510</td>\n",
       "      <td>Silence of the Lambs, The (1991)</td>\n",
       "      <td>Crime|Horror|Thriller</td>\n",
       "      <td>4.146552</td>\n",
       "      <td>232</td>\n",
       "    </tr>\n",
       "    <tr>\n",
       "      <th>418</th>\n",
       "      <td>418</td>\n",
       "      <td>Jurassic Park (1993)</td>\n",
       "      <td>Action|Adventure|Sci-Fi|Thriller</td>\n",
       "      <td>3.742009</td>\n",
       "      <td>219</td>\n",
       "    </tr>\n",
       "    <tr>\n",
       "      <th>0</th>\n",
       "      <td>0</td>\n",
       "      <td>Toy Story (1995)</td>\n",
       "      <td>Adventure|Animation|Children|Comedy|Fantasy</td>\n",
       "      <td>3.920930</td>\n",
       "      <td>215</td>\n",
       "    </tr>\n",
       "    <tr>\n",
       "      <th>2216</th>\n",
       "      <td>2226</td>\n",
       "      <td>Fight Club (1999)</td>\n",
       "      <td>Action|Crime|Drama|Thriller</td>\n",
       "      <td>4.258216</td>\n",
       "      <td>213</td>\n",
       "    </tr>\n",
       "  </tbody>\n",
       "</table>\n",
       "</div>"
      ],
      "text/plain": [
       "      MovieID                                      Title  \\\n",
       "314       314                        Forrest Gump (1994)   \n",
       "277       277           Shawshank Redemption, The (1994)   \n",
       "257       257                        Pulp Fiction (1994)   \n",
       "1933     1939                         Matrix, The (1999)   \n",
       "224       224  Star Wars: Episode IV - A New Hope (1977)   \n",
       "97         97                          Braveheart (1995)   \n",
       "509       510           Silence of the Lambs, The (1991)   \n",
       "418       418                       Jurassic Park (1993)   \n",
       "0           0                           Toy Story (1995)   \n",
       "2216     2226                          Fight Club (1999)   \n",
       "\n",
       "                                           Genres  AVG_Rating  Counts  \n",
       "314                      Comedy|Drama|Romance|War    4.173913     322  \n",
       "277                                   Crime|Drama    4.431746     315  \n",
       "257                   Comedy|Crime|Drama|Thriller    4.197068     307  \n",
       "1933                       Action|Sci-Fi|Thriller    4.182510     263  \n",
       "224                       Action|Adventure|Sci-Fi    4.231076     251  \n",
       "97                               Action|Drama|War    4.031646     237  \n",
       "509                         Crime|Horror|Thriller    4.146552     232  \n",
       "418              Action|Adventure|Sci-Fi|Thriller    3.742009     219  \n",
       "0     Adventure|Animation|Children|Comedy|Fantasy    3.920930     215  \n",
       "2216                  Action|Crime|Drama|Thriller    4.258216     213  "
      ]
     },
     "execution_count": 12,
     "metadata": {},
     "output_type": "execute_result"
    }
   ],
   "source": [
    "recommend(rec, new_user_id).head(10)"
   ]
  },
  {
   "cell_type": "code",
   "execution_count": 13,
   "metadata": {},
   "outputs": [
    {
     "data": {
      "text/html": [
       "<div>\n",
       "<style scoped>\n",
       "    .dataframe tbody tr th:only-of-type {\n",
       "        vertical-align: middle;\n",
       "    }\n",
       "\n",
       "    .dataframe tbody tr th {\n",
       "        vertical-align: top;\n",
       "    }\n",
       "\n",
       "    .dataframe thead th {\n",
       "        text-align: right;\n",
       "    }\n",
       "</style>\n",
       "<table border=\"1\" class=\"dataframe\">\n",
       "  <thead>\n",
       "    <tr style=\"text-align: right;\">\n",
       "      <th></th>\n",
       "      <th>MovieID</th>\n",
       "      <th>UserID</th>\n",
       "      <th>Genres</th>\n",
       "      <th>Title</th>\n",
       "      <th>Rating</th>\n",
       "    </tr>\n",
       "  </thead>\n",
       "  <tbody>\n",
       "    <tr>\n",
       "      <th>94740</th>\n",
       "      <td>6436</td>\n",
       "      <td>610</td>\n",
       "      <td>Adventure|Children|Sci-Fi</td>\n",
       "      <td>Last Mimzy, The (2007)</td>\n",
       "      <td>4.5</td>\n",
       "    </tr>\n",
       "    <tr>\n",
       "      <th>94739</th>\n",
       "      <td>5893</td>\n",
       "      <td>610</td>\n",
       "      <td>Drama</td>\n",
       "      <td>Dear Wendy (2005)</td>\n",
       "      <td>4.0</td>\n",
       "    </tr>\n",
       "    <tr>\n",
       "      <th>94736</th>\n",
       "      <td>293</td>\n",
       "      <td>610</td>\n",
       "      <td>Mystery|Thriller</td>\n",
       "      <td>Underneath (1995)</td>\n",
       "      <td>3.0</td>\n",
       "    </tr>\n",
       "    <tr>\n",
       "      <th>94737</th>\n",
       "      <td>2513</td>\n",
       "      <td>610</td>\n",
       "      <td>Comedy|Drama|Romance</td>\n",
       "      <td>Bull Durham (1988)</td>\n",
       "      <td>2.0</td>\n",
       "    </tr>\n",
       "    <tr>\n",
       "      <th>94741</th>\n",
       "      <td>6538</td>\n",
       "      <td>610</td>\n",
       "      <td>Comedy</td>\n",
       "      <td>Brice Man, The (Brice de Nice) (2005)</td>\n",
       "      <td>2.0</td>\n",
       "    </tr>\n",
       "    <tr>\n",
       "      <th>94742</th>\n",
       "      <td>7878</td>\n",
       "      <td>610</td>\n",
       "      <td>Drama|Thriller</td>\n",
       "      <td>96 Minutes (2011)</td>\n",
       "      <td>1.5</td>\n",
       "    </tr>\n",
       "    <tr>\n",
       "      <th>94743</th>\n",
       "      <td>8497</td>\n",
       "      <td>610</td>\n",
       "      <td>Comedy</td>\n",
       "      <td>Inbetweeners 2, The (2014)</td>\n",
       "      <td>1.5</td>\n",
       "    </tr>\n",
       "    <tr>\n",
       "      <th>94738</th>\n",
       "      <td>2536</td>\n",
       "      <td>610</td>\n",
       "      <td>Adventure|Children|Comedy|Musical</td>\n",
       "      <td>Muppet Movie, The (1979)</td>\n",
       "      <td>1.0</td>\n",
       "    </tr>\n",
       "  </tbody>\n",
       "</table>\n",
       "</div>"
      ],
      "text/plain": [
       "       MovieID  UserID                             Genres  \\\n",
       "94740     6436     610          Adventure|Children|Sci-Fi   \n",
       "94739     5893     610                              Drama   \n",
       "94736      293     610                   Mystery|Thriller   \n",
       "94737     2513     610               Comedy|Drama|Romance   \n",
       "94741     6538     610                             Comedy   \n",
       "94742     7878     610                     Drama|Thriller   \n",
       "94743     8497     610                             Comedy   \n",
       "94738     2536     610  Adventure|Children|Comedy|Musical   \n",
       "\n",
       "                                       Title  Rating  \n",
       "94740                 Last Mimzy, The (2007)     4.5  \n",
       "94739                      Dear Wendy (2005)     4.0  \n",
       "94736                      Underneath (1995)     3.0  \n",
       "94737                     Bull Durham (1988)     2.0  \n",
       "94741  Brice Man, The (Brice de Nice) (2005)     2.0  \n",
       "94742                     96 Minutes (2011)      1.5  \n",
       "94743             Inbetweeners 2, The (2014)     1.5  \n",
       "94738               Muppet Movie, The (1979)     1.0  "
      ]
     },
     "execution_count": 13,
     "metadata": {},
     "output_type": "execute_result"
    }
   ],
   "source": [
    "bestRated(rec, new_user_id).head(10)"
   ]
  },
  {
   "cell_type": "markdown",
   "metadata": {},
   "source": [
    "## Cold start problem\n",
    "If a new user has rated less than 10 movies, the most popular and unseen movies will be recommended."
   ]
  },
  {
   "cell_type": "code",
   "execution_count": 14,
   "metadata": {},
   "outputs": [
    {
     "name": "stdout",
     "output_type": "stream",
     "text": [
      "Executed 'New user factorisation'.  Elapsed time: 0.621690s\n"
     ]
    }
   ],
   "source": [
    "np.random.seed(17)\n",
    "\n",
    "new_user, new_user_id = rec.generateNewUser(8)\n",
    "np.shape(rec.R)\n",
    "\n",
    "with utilities.codeTimer(\"New user factorisation\"):\n",
    "    rec.addNewUser(new_user, reg_lambda)"
   ]
  },
  {
   "cell_type": "code",
   "execution_count": 17,
   "metadata": {},
   "outputs": [
    {
     "name": "stdout",
     "output_type": "stream",
     "text": [
      "Too few movies! Most poular movies will be suggested.\n",
      "\\begin{tabular}{rllrr}\n",
      "\\toprule\n",
      " MovieID &                                      Title &                                       Genres &  AVG\\_Rating &  Counts \\\\\n",
      "\\midrule\n",
      "     314 &                        Forrest Gump (1994) &                     Comedy|Drama|Romance|War &    4.173913 &     322 \\\\\n",
      "     277 &           Shawshank Redemption, The (1994) &                                  Crime|Drama &    4.431746 &     315 \\\\\n",
      "     257 &                        Pulp Fiction (1994) &                  Comedy|Crime|Drama|Thriller &    4.197068 &     307 \\\\\n",
      "    1939 &                         Matrix, The (1999) &                       Action|Sci-Fi|Thriller &    4.182510 &     263 \\\\\n",
      "     224 &  Star Wars: Episode IV - A New Hope (1977) &                      Action|Adventure|Sci-Fi &    4.231076 &     251 \\\\\n",
      "      97 &                          Braveheart (1995) &                             Action|Drama|War &    4.031646 &     237 \\\\\n",
      "     510 &           Silence of the Lambs, The (1991) &                        Crime|Horror|Thriller &    4.146552 &     232 \\\\\n",
      "     418 &                       Jurassic Park (1993) &             Action|Adventure|Sci-Fi|Thriller &    3.742009 &     219 \\\\\n",
      "       0 &                           Toy Story (1995) &  Adventure|Animation|Children|Comedy|Fantasy &    3.920930 &     215 \\\\\n",
      "    2226 &                          Fight Club (1999) &                  Action|Crime|Drama|Thriller &    4.258216 &     213 \\\\\n",
      "\\bottomrule\n",
      "\\end{tabular}\n",
      "\n"
     ]
    }
   ],
   "source": [
    "print(recommend(rec, new_user_id).head(10).to_latex(index = False))"
   ]
  },
  {
   "cell_type": "code",
   "execution_count": null,
   "metadata": {},
   "outputs": [],
   "source": []
  }
 ],
 "metadata": {
  "kernelspec": {
   "display_name": "Python 3",
   "language": "python",
   "name": "python3"
  },
  "language_info": {
   "codemirror_mode": {
    "name": "ipython",
    "version": 3
   },
   "file_extension": ".py",
   "mimetype": "text/x-python",
   "name": "python",
   "nbconvert_exporter": "python",
   "pygments_lexer": "ipython3",
   "version": "3.7.3"
  }
 },
 "nbformat": 4,
 "nbformat_minor": 4
}
