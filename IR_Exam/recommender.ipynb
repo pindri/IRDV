{
 "cells": [
  {
   "cell_type": "code",
   "execution_count": 259,
   "metadata": {},
   "outputs": [],
   "source": [
    "import numpy as np\n",
    "from numpy.linalg import multi_dot\n",
    "\n",
    "import pandas as pd"
   ]
  },
  {
   "cell_type": "code",
   "execution_count": 260,
   "metadata": {},
   "outputs": [],
   "source": [
    "# Building random data matrix R and obtain coefficient matrix C.\n",
    "\n",
    "M = 10\n",
    "N = 20\n",
    "\n",
    "# Obserbed and unobserbed weights.\n",
    "wk = 0.7\n",
    "w0 = 0.5\n",
    "\n",
    "R = np.random.choice([0, 1], size = (M, N), p = [3./5, 2./5])\n",
    "\n",
    "c = [ sum(R[:, i]) for i in range(0, np.shape(R)[1]) ]\n",
    "C = R * c * wk + w0"
   ]
  },
  {
   "cell_type": "code",
   "execution_count": 261,
   "metadata": {},
   "outputs": [
    {
     "data": {
      "text/plain": [
       "array([[0, 1, 0, 0, 0, 0, 1, 0, 0, 1, 0, 1, 1, 0, 0, 0, 1, 1, 0, 1],\n",
       "       [0, 0, 1, 1, 1, 1, 0, 1, 0, 1, 0, 0, 0, 1, 1, 0, 0, 0, 0, 1],\n",
       "       [0, 0, 0, 0, 1, 0, 1, 0, 1, 1, 0, 0, 1, 0, 1, 0, 0, 0, 1, 0],\n",
       "       [0, 0, 0, 1, 0, 1, 1, 1, 1, 0, 1, 1, 0, 0, 0, 0, 0, 0, 0, 0],\n",
       "       [0, 0, 0, 0, 1, 0, 0, 0, 0, 0, 0, 0, 0, 1, 1, 0, 1, 0, 0, 1],\n",
       "       [1, 0, 0, 0, 0, 0, 1, 0, 1, 0, 0, 0, 0, 1, 1, 1, 0, 0, 1, 1],\n",
       "       [0, 1, 0, 0, 1, 0, 1, 0, 1, 0, 0, 1, 0, 0, 0, 1, 1, 1, 0, 0],\n",
       "       [1, 0, 1, 1, 0, 1, 0, 0, 1, 1, 1, 1, 0, 0, 0, 0, 1, 0, 1, 0],\n",
       "       [1, 1, 0, 0, 1, 0, 1, 0, 0, 0, 0, 1, 1, 0, 1, 0, 0, 0, 0, 0],\n",
       "       [1, 0, 0, 1, 0, 0, 0, 1, 1, 1, 0, 1, 1, 0, 1, 0, 1, 1, 1, 0]])"
      ]
     },
     "execution_count": 261,
     "metadata": {},
     "output_type": "execute_result"
    }
   ],
   "source": [
    "R"
   ]
  },
  {
   "cell_type": "code",
   "execution_count": 262,
   "metadata": {},
   "outputs": [],
   "source": [
    "# Building random X and Y matrices of proper dimension.\n",
    "\n",
    "K = 5\n",
    "\n",
    "X = np.random.rand(M, K)\n",
    "Y = np.random.rand(N, K)"
   ]
  },
  {
   "cell_type": "code",
   "execution_count": 263,
   "metadata": {},
   "outputs": [],
   "source": [
    "# Define functions to compute approximated ratings and error.\n",
    "\n",
    "def approximation(X, Y):\n",
    "    return np.dot(X, Y.T)\n",
    "\n",
    "def error(approxRatings, ratings, w0):\n",
    "    obs_idx = np.where(ratings > 0)\n",
    "    nobs_idx = np.where(ratings == 0)\n",
    "    obs_error = sum( (ratings[obs_idx] - approxRatings[obs_idx]) ** 2 )\n",
    "    nobs_error = sum( (ratings[nobs_idx] - approxRatings[nobs_idx]) ** 2 )\n",
    "    return obs_error + w0 * nobs_error"
   ]
  },
  {
   "cell_type": "code",
   "execution_count": 264,
   "metadata": {},
   "outputs": [
    {
     "data": {
      "text/plain": [
       "163.6857301606067"
      ]
     },
     "execution_count": 264,
     "metadata": {},
     "output_type": "execute_result"
    }
   ],
   "source": [
    "# Testing functions.\n",
    "\n",
    "approx_ratings = approximation(X, Y)\n",
    "w0 = 0.5\n",
    "error(approx_ratings, R, w0)"
   ]
  },
  {
   "cell_type": "code",
   "execution_count": 265,
   "metadata": {},
   "outputs": [],
   "source": [
    "def singlePassWALS(R, X, Y, C, reg_lambda):\n",
    "    M = np.shape(X)[0]\n",
    "    K = np.shape(X)[1]\n",
    "    N = np.shape(Y)[0]\n",
    "\n",
    "    for u in range(1, M):\n",
    "        Cu = np.diag(C[u, :])\n",
    "        # A X_u = b\n",
    "        A = multi_dot([Y.T, Cu, Y]) + reg_lambda * np.eye(K)\n",
    "        b = multi_dot([Y.T, Cu, R[u, :]])\n",
    "        X_u = np.linalg.solve(A, b)\n",
    "        \n",
    "        X[u,] = X_u\n",
    "        \n",
    "    for i in range(1, N):\n",
    "        Ci = np.diag(C[:,i])\n",
    "        # A Y_i = b\n",
    "        A = multi_dot([X.T, Ci, X]) + reg_lambda * np.eye(K)\n",
    "        b = multi_dot([X.T, Ci, R[:, i]])\n",
    "        Y_i = np.linalg.solve(A, b)\n",
    "        \n",
    "        Y[i,] = Y_i    \n",
    "    "
   ]
  },
  {
   "cell_type": "code",
   "execution_count": 266,
   "metadata": {},
   "outputs": [],
   "source": [
    "def WALS(R, X, Y, C, reg_lambda, n_iter):\n",
    "    for j in range(1, n_iter):\n",
    "        singlePassWALS(R, X, Y, C, reg_lambda)\n",
    "        approx_ratings = approximation(X, Y)\n",
    "        w0 = 0.5\n",
    "        print(\"Error: \" + str(error(approx_ratings, R, w0)))\n",
    "        "
   ]
  },
  {
   "cell_type": "code",
   "execution_count": 267,
   "metadata": {},
   "outputs": [
    {
     "name": "stdout",
     "output_type": "stream",
     "text": [
      "Error: 22.62233629571566\n",
      "Error: 15.025697036674076\n",
      "Error: 13.341552737737258\n",
      "Error: 12.573144941035142\n",
      "Error: 12.117414113017443\n",
      "Error: 11.81167392398889\n",
      "Error: 11.6059195420799\n",
      "Error: 11.476406035365862\n",
      "Error: 11.400516278725952\n"
     ]
    }
   ],
   "source": [
    "# Compute WALS.\n",
    "\n",
    "reg_lambda = 0.2\n",
    "n_iter = 10\n",
    "\n",
    "\n",
    "WALS(R, X, Y, C, reg_lambda, n_iter)\n",
    "\n",
    "final_result = approximation(X, Y)"
   ]
  },
  {
   "cell_type": "code",
   "execution_count": 273,
   "metadata": {},
   "outputs": [
    {
     "data": {
      "text/plain": [
       "array([[ 1.4,  0.9,  0.2,  0.2,  0.6, -0. ,  0.9,  0.2,  0.4,  0.9,  0. ,\n",
       "         1. ,  1.1,  0.1,  1.1, -0.1,  1. ,  0.9,  0.5,  0.9],\n",
       "       [-0.2, -0.2,  0.9,  0.9,  0.9,  0.9, -0. ,  0.9,  0.3,  1. ,  0.1,\n",
       "        -0. ,  0.1,  1.1,  1. ,  0. ,  0.9,  0.1,  0.4,  1. ],\n",
       "       [ 0.9,  0.1,  0.1,  0.2,  0.9,  0.1,  1. ,  0.2,  1. ,  0.9,  0. ,\n",
       "         0.2,  0.9,  0.7,  1. ,  0.6,  0.1,  0.2,  1. ,  0.8],\n",
       "       [ 0.2,  0.2,  0.4,  0.9,  0.1,  0.9,  0.8,  0.9,  1.1,  0.2,  0.9,\n",
       "         1. ,  0.1, -0.2,  0. ,  0.4,  0.7,  0.6,  0.5, -0.4],\n",
       "       [-0.1,  0.4,  0.3,  0.3,  1.1,  0.2,  0. ,  0.3, -0.1,  0.5, -0.3,\n",
       "         0.1,  0.2,  0.9,  1. ,  0.1,  0.9,  0.3, -0.2,  1. ],\n",
       "       [ 0.8, -0. , -0. ,  0.1,  0.9, -0.1,  1. ,  0.1,  1. ,  0.8, -0.1,\n",
       "        -0. ,  0.9,  0.8,  1. ,  0.8, -0.2,  0.1,  1. ,  0.9],\n",
       "       [ 0.1,  0.9, -0.2,  0.3,  1. ,  0.2,  1.1,  0.4,  0.9, -0.3,  0.3,\n",
       "         1. ,  0.3,  0.1,  0.5,  0.9,  0.9,  0.9, -0.1, -0. ],\n",
       "       [ 0.9, -0. ,  0.8,  1.1, -0.2,  0.9,  0.7,  0.9,  0.9,  1. ,  0.9,\n",
       "         1. ,  0.5, -0.2,  0.3, -0.2,  0.8,  0.5,  0.9,  0.1],\n",
       "       [ 1. ,  1. , -0.3, -0.1,  0.9, -0.3,  1. , -0.1,  0.4,  0.4, -0.2,\n",
       "         0.9,  0.9,  0.2,  0.9,  0.4,  0.7,  0.8,  0.2,  0.6],\n",
       "       [ 1.1,  0.4,  0.6,  0.9,  0.5,  0.7,  1. ,  0.8,  1. ,  1.1,  0.5,\n",
       "         1. ,  0.8,  0.2,  0.9,  0.1,  1. ,  0.8,  0.9,  0.6]])"
      ]
     },
     "execution_count": 273,
     "metadata": {},
     "output_type": "execute_result"
    }
   ],
   "source": [
    "np.matrix.round(final_result, 1)"
   ]
  },
  {
   "cell_type": "code",
   "execution_count": null,
   "metadata": {},
   "outputs": [],
   "source": []
  }
 ],
 "metadata": {
  "kernelspec": {
   "display_name": "Python 3",
   "language": "python",
   "name": "python3"
  },
  "language_info": {
   "codemirror_mode": {
    "name": "ipython",
    "version": 3
   },
   "file_extension": ".py",
   "mimetype": "text/x-python",
   "name": "python",
   "nbconvert_exporter": "python",
   "pygments_lexer": "ipython3",
   "version": "3.7.3"
  }
 },
 "nbformat": 4,
 "nbformat_minor": 2
}
