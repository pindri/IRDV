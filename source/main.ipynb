{
 "cells": [
  {
   "cell_type": "code",
   "execution_count": 1,
   "metadata": {},
   "outputs": [],
   "source": [
    "import numpy as np\n",
    "import pandas as pd\n",
    "import matplotlib.pyplot as plt"
   ]
  },
  {
   "cell_type": "code",
   "execution_count": 2,
   "metadata": {},
   "outputs": [],
   "source": [
    "import utilities # codeTimer context manager and saving/loading utilities.\n",
    "import data_preparation # Load dataset and build required matrices.\n",
    "import factorisation # WALS factorisation.\n",
    "import recommender # Recommender system."
   ]
  },
  {
   "cell_type": "markdown",
   "metadata": {},
   "source": [
    "## Loading dataset and creating recommender system"
   ]
  },
  {
   "cell_type": "code",
   "execution_count": 3,
   "metadata": {},
   "outputs": [
    {
     "name": "stdout",
     "output_type": "stream",
     "text": [
      "The dataframe contains 610 users and 9721 items.\n",
      "Prediction MAE: 46.3893943883063\n"
     ]
    }
   ],
   "source": [
    "np.random.seed(17)\n",
    "\n",
    "mov, rat, rat_test = data_preparation.importDataset()\n",
    "k = 100\n",
    "rec = recommender.recommenderSystem(mov, rat, rat_test, k)\n",
    "\n",
    "print(\"Prediction MAE: {}\".format(rec.predictionError()))"
   ]
  },
  {
   "cell_type": "markdown",
   "metadata": {},
   "source": [
    "A pre-trained recommander system can be loaded using the following cell. The pre-trained system has been trained using the whole dataset with $k = 100$ latent factors and 10 iterations.\n",
    "\n",
    "In order to save disk space, the saved system consists only of the item and user embedding matrices. This requires the user to call the previous cell, building the remaining components of the system. "
   ]
  },
  {
   "cell_type": "code",
   "execution_count": 4,
   "metadata": {},
   "outputs": [],
   "source": [
    "#utilities.loadRecSys(rec, \"rec.npz\")"
   ]
  },
  {
   "cell_type": "markdown",
   "metadata": {},
   "source": [
    "## Explorative analysis"
   ]
  },
  {
   "cell_type": "code",
   "execution_count": 5,
   "metadata": {},
   "outputs": [
    {
     "name": "stdout",
     "output_type": "stream",
     "text": [
      "Matrix sparsity: 1.5976228580679652%\n"
     ]
    }
   ],
   "source": [
    "np.count_nonzero(rec.R)\n",
    "sparsity = np.count_nonzero(rec.R)/np.prod(rec.R.shape)\n",
    "print(\"Matrix sparsity: {}%\".format(sparsity*100))"
   ]
  },
  {
   "cell_type": "code",
   "execution_count": 6,
   "metadata": {},
   "outputs": [
    {
     "data": {
      "image/png": "[encoded data removed]",
      "text/plain": [
       "<Figure size 432x288 with 1 Axes>"
      ]
     },
     "metadata": {
      "needs_background": "light"
     },
     "output_type": "display_data"
    }
   ],
   "source": [
    "# Distribution of number of ratings.\n",
    "from matplotlib.ticker import MaxNLocator\n",
    "plt.rcParams.update({'font.size': 13})\n",
    "\n",
    "n_ratings = [np.count_nonzero(i) for i in rec.R]\n",
    "\n",
    "\n",
    "fig, ax = plt.subplots()\n",
    "\n",
    "ax.hist(n_ratings, bins = 150)\n",
    "\n",
    "ax.set_title(\"Number of ratings histogram\")\n",
    "ax.set_ylabel(\"Users\")\n",
    "y_vals = ax.get_yticks()\n",
    "ax.set_yticklabels(['{:,.0%}'.format(x) for x in y_vals/np.shape(rec.R)[0]])\n",
    "ax.set_xlim(0, 600)\n",
    "ax.set_xlabel(\"Number of ratings\")\n",
    "ax.xaxis.set_major_locator(MaxNLocator(integer = True))\n",
    "\n",
    "plt.savefig(\"plots/n_ratings.pdf\", transparent = True)\n",
    "plt.show()"
   ]
  },
  {
   "cell_type": "code",
   "execution_count": 7,
   "metadata": {},
   "outputs": [
    {
     "data": {
      "image/png": "[encoded data removed]",
      "text/plain": [
       "<Figure size 432x288 with 1 Axes>"
      ]
     },
     "metadata": {
      "needs_background": "light"
     },
     "output_type": "display_data"
    }
   ],
   "source": [
    "# Counting number ratings.\n",
    "rates = rec.R.flatten()\n",
    "rates = rates[rates != 0]\n",
    "unique, counts = np.unique(rates, return_counts = True)\n",
    "\n",
    "fig, ax = plt.subplots()\n",
    "ax.bar(unique, counts / sum(counts), width = 0.4)\n",
    "\n",
    "ax.set_title(\"Distribution of ratings\")\n",
    "\n",
    "y_vals = ax.get_yticks()\n",
    "ax.set_yticklabels(['{:,.0%}'.format(x) for x in y_vals])\n",
    "\n",
    "ax.set_xlabel(\"Rating\")\n",
    "ax.xaxis.set_major_locator(MaxNLocator(integer = False))\n",
    "plt.rcParams['xtick.labelsize'] = 11\n",
    "ax.set_xticks(list(unique))\n",
    "\n",
    "plt.savefig(\"plots/ratings_dist.pdf\", transparent = True)\n",
    "plt.show()"
   ]
  },
  {
   "cell_type": "markdown",
   "metadata": {},
   "source": [
    "## Selecting best regression coefficient with CV"
   ]
  },
  {
   "cell_type": "markdown",
   "metadata": {},
   "source": [
    "Expect ~ 3 hours for the execution of the following cell."
   ]
  },
  {
   "cell_type": "code",
   "execution_count": null,
   "metadata": {},
   "outputs": [],
   "source": [
    "np.random.seed(17)\n",
    "\n",
    "reg_lambda = [0.05, 0.15, 0.30]\n",
    "\n",
    "n_folds = 4\n",
    "n_iter = 4\n",
    "\n",
    "# reg_lambda is required to be a list.\n",
    "with utilities.codeTimer(\"Best regression lambda CV\"):\n",
    "    best_lambda, errors = rec.bestLambdaCV(n_folds, n_iter, reg_lambda)"
   ]
  },
  {
   "cell_type": "code",
   "execution_count": null,
   "metadata": {},
   "outputs": [],
   "source": [
    "# Plotting results.\n",
    "\n",
    "fig, ax = plt.subplots()\n",
    "x = [i + 1 for i in range(n_iter)]\n",
    "for i in range(len(reg_lambda)):\n",
    "    ax.plot(x, errors[i][1])\n",
    "\n",
    "ax.set_title(\"kFoldCV error\")\n",
    "ax.set_ylabel(\"MAE\")\n",
    "ax.set_xlabel(\"Iteration\")\n",
    "ax.xaxis.set_major_locator(MaxNLocator(integer = True))\n",
    "ax.legend(reg_lambda, title = r\"$\\lambda$ values\")\n",
    "\n",
    "plt.savefig(\"plots/TestErrorCV.pdf\", transparent = True)\n",
    "plt.show()"
   ]
  },
  {
   "cell_type": "markdown",
   "metadata": {},
   "source": [
    "## Factorisation"
   ]
  },
  {
   "cell_type": "markdown",
   "metadata": {},
   "source": [
    "Expect ~ 50 minutes for the execution of the following cell."
   ]
  },
  {
   "cell_type": "code",
   "execution_count": null,
   "metadata": {},
   "outputs": [],
   "source": [
    "#reg_lambda = best_lambda\n",
    "reg_lambda = 0.15\n",
    "n_iter = 10\n",
    "\n",
    "with utilities.codeTimer(\"WALS factorisation\"):\n",
    "    train, test = rec.performFactorisation(reg_lambda, n_iter)"
   ]
  },
  {
   "cell_type": "code",
   "execution_count": null,
   "metadata": {},
   "outputs": [],
   "source": [
    "# Plotting results.\n",
    "fig, ax = plt.subplots()\n",
    "x = [i + 1 for i in range(len(test))]\n",
    "ax.plot(x, test)\n",
    "\n",
    "ax.set_title(\"WALS factorisation\")\n",
    "ax.set_ylabel(\"MAE\")\n",
    "#ax.set_ylim(0, 0.9)\n",
    "ax.set_xlabel(\"Iteration\")\n",
    "ax.xaxis.set_major_locator(MaxNLocator(integer = True))\n",
    "\n",
    "plt.savefig(\"plots/WALS_train.pdf\", transparent = True)\n",
    "plt.show()"
   ]
  },
  {
   "cell_type": "markdown",
   "metadata": {},
   "source": [
    "Once the recommander system has been trained, it can be saved to file using the following cell."
   ]
  },
  {
   "cell_type": "code",
   "execution_count": null,
   "metadata": {},
   "outputs": [],
   "source": [
    "#utilities.saveRecSys(rec, \"rec.npz\")"
   ]
  },
  {
   "cell_type": "markdown",
   "metadata": {},
   "source": [
    "## Recommendation"
   ]
  },
  {
   "cell_type": "code",
   "execution_count": 8,
   "metadata": {},
   "outputs": [],
   "source": [
    "def recommend(rec_system, user_id):\n",
    "    return rec_system.answerQuery(user_id)\n",
    "        \n",
    "def bestRated(rec_system, user_id):\n",
    "    user_movies = rec_system.getUserMovies(user_id)\n",
    "    return user_movies.sort_values(by = \"Rating\", ascending = False)"
   ]
  },
  {
   "cell_type": "code",
   "execution_count": 9,
   "metadata": {},
   "outputs": [
    {
     "data": {
      "text/html": [
       "<div>\n",
       "<style scoped>\n",
       "    .dataframe tbody tr th:only-of-type {\n",
       "        vertical-align: middle;\n",
       "    }\n",
       "\n",
       "    .dataframe tbody tr th {\n",
       "        vertical-align: top;\n",
       "    }\n",
       "\n",
       "    .dataframe thead th {\n",
       "        text-align: right;\n",
       "    }\n",
       "</style>\n",
       "<table border=\"1\" class=\"dataframe\">\n",
       "  <thead>\n",
       "    <tr style=\"text-align: right;\">\n",
       "      <th></th>\n",
       "      <th>MovieID</th>\n",
       "      <th>Prediction</th>\n",
       "      <th>Title</th>\n",
       "      <th>Genres</th>\n",
       "      <th>AVG_Rating</th>\n",
       "    </tr>\n",
       "  </thead>\n",
       "  <tbody>\n",
       "    <tr>\n",
       "      <th>2633</th>\n",
       "      <td>2674</td>\n",
       "      <td>3.78</td>\n",
       "      <td>Gladiator (2000)</td>\n",
       "      <td>Action|Adventure|Drama</td>\n",
       "      <td>3.909677</td>\n",
       "    </tr>\n",
       "    <tr>\n",
       "      <th>480</th>\n",
       "      <td>483</td>\n",
       "      <td>3.55</td>\n",
       "      <td>Nightmare Before Christmas, The (1993)</td>\n",
       "      <td>Animation|Children|Fantasy|Musical</td>\n",
       "      <td>3.559783</td>\n",
       "    </tr>\n",
       "    <tr>\n",
       "      <th>944</th>\n",
       "      <td>957</td>\n",
       "      <td>3.28</td>\n",
       "      <td>Shining, The (1980)</td>\n",
       "      <td>Horror</td>\n",
       "      <td>4.074766</td>\n",
       "    </tr>\n",
       "    <tr>\n",
       "      <th>889</th>\n",
       "      <td>902</td>\n",
       "      <td>2.88</td>\n",
       "      <td>Aliens (1986)</td>\n",
       "      <td>Action|Adventure|Horror|Sci-Fi</td>\n",
       "      <td>3.964286</td>\n",
       "    </tr>\n",
       "    <tr>\n",
       "      <th>1037</th>\n",
       "      <td>1055</td>\n",
       "      <td>2.60</td>\n",
       "      <td>Star Trek VI: The Undiscovered Country (1991)</td>\n",
       "      <td>Action|Mystery|Sci-Fi</td>\n",
       "      <td>3.353659</td>\n",
       "    </tr>\n",
       "    <tr>\n",
       "      <th>939</th>\n",
       "      <td>952</td>\n",
       "      <td>2.48</td>\n",
       "      <td>Day the Earth Stood Still, The (1951)</td>\n",
       "      <td>Drama|Sci-Fi|Thriller</td>\n",
       "      <td>3.820000</td>\n",
       "    </tr>\n",
       "    <tr>\n",
       "      <th>6115</th>\n",
       "      <td>6242</td>\n",
       "      <td>2.43</td>\n",
       "      <td>Little Miss Sunshine (2006)</td>\n",
       "      <td>Adventure|Comedy|Drama</td>\n",
       "      <td>3.847826</td>\n",
       "    </tr>\n",
       "    <tr>\n",
       "      <th>913</th>\n",
       "      <td>926</td>\n",
       "      <td>2.39</td>\n",
       "      <td>Amadeus (1984)</td>\n",
       "      <td>Drama</td>\n",
       "      <td>4.184211</td>\n",
       "    </tr>\n",
       "    <tr>\n",
       "      <th>1418</th>\n",
       "      <td>1438</td>\n",
       "      <td>2.38</td>\n",
       "      <td>Rain Man (1988)</td>\n",
       "      <td>Drama</td>\n",
       "      <td>3.781915</td>\n",
       "    </tr>\n",
       "    <tr>\n",
       "      <th>2269</th>\n",
       "      <td>2302</td>\n",
       "      <td>2.37</td>\n",
       "      <td>Dogma (1999)</td>\n",
       "      <td>Adventure|Comedy|Fantasy</td>\n",
       "      <td>3.614865</td>\n",
       "    </tr>\n",
       "  </tbody>\n",
       "</table>\n",
       "</div>"
      ],
      "text/plain": [
       "      MovieID  Prediction                                          Title  \\\n",
       "2633     2674        3.78                               Gladiator (2000)   \n",
       "480       483        3.55         Nightmare Before Christmas, The (1993)   \n",
       "944       957        3.28                            Shining, The (1980)   \n",
       "889       902        2.88                                  Aliens (1986)   \n",
       "1037     1055        2.60  Star Trek VI: The Undiscovered Country (1991)   \n",
       "939       952        2.48          Day the Earth Stood Still, The (1951)   \n",
       "6115     6242        2.43                    Little Miss Sunshine (2006)   \n",
       "913       926        2.39                                 Amadeus (1984)   \n",
       "1418     1438        2.38                                Rain Man (1988)   \n",
       "2269     2302        2.37                                   Dogma (1999)   \n",
       "\n",
       "                                  Genres  AVG_Rating  \n",
       "2633              Action|Adventure|Drama    3.909677  \n",
       "480   Animation|Children|Fantasy|Musical    3.559783  \n",
       "944                               Horror    4.074766  \n",
       "889       Action|Adventure|Horror|Sci-Fi    3.964286  \n",
       "1037               Action|Mystery|Sci-Fi    3.353659  \n",
       "939                Drama|Sci-Fi|Thriller    3.820000  \n",
       "6115              Adventure|Comedy|Drama    3.847826  \n",
       "913                                Drama    4.184211  \n",
       "1418                               Drama    3.781915  \n",
       "2269            Adventure|Comedy|Fantasy    3.614865  "
      ]
     },
     "execution_count": 9,
     "metadata": {},
     "output_type": "execute_result"
    }
   ],
   "source": [
    "user_id = 2\n",
    "recommend(rec, user_id).head(10)"
   ]
  },
  {
   "cell_type": "code",
   "execution_count": 10,
   "metadata": {},
   "outputs": [
    {
     "data": {
      "text/html": [
       "<div>\n",
       "<style scoped>\n",
       "    .dataframe tbody tr th:only-of-type {\n",
       "        vertical-align: middle;\n",
       "    }\n",
       "\n",
       "    .dataframe tbody tr th {\n",
       "        vertical-align: top;\n",
       "    }\n",
       "\n",
       "    .dataframe thead th {\n",
       "        text-align: right;\n",
       "    }\n",
       "</style>\n",
       "<table border=\"1\" class=\"dataframe\">\n",
       "  <thead>\n",
       "    <tr style=\"text-align: right;\">\n",
       "      <th></th>\n",
       "      <th>MovieID</th>\n",
       "      <th>UserID</th>\n",
       "      <th>Genres</th>\n",
       "      <th>Title</th>\n",
       "      <th>Rating</th>\n",
       "    </tr>\n",
       "  </thead>\n",
       "  <tbody>\n",
       "    <tr>\n",
       "      <th>63308</th>\n",
       "      <td>3734</td>\n",
       "      <td>2</td>\n",
       "      <td>Action|Sci-Fi|Thriller</td>\n",
       "      <td>Hangar 18 (1980)</td>\n",
       "      <td>5.0</td>\n",
       "    </tr>\n",
       "    <tr>\n",
       "      <th>46993</th>\n",
       "      <td>2141</td>\n",
       "      <td>2</td>\n",
       "      <td>Adventure|Sci-Fi|Thriller</td>\n",
       "      <td>Saturn 3 (1980)</td>\n",
       "      <td>5.0</td>\n",
       "    </tr>\n",
       "    <tr>\n",
       "      <th>60071</th>\n",
       "      <td>3335</td>\n",
       "      <td>2</td>\n",
       "      <td>Comedy|Horror</td>\n",
       "      <td>The Lair of the White Worm (1988)</td>\n",
       "      <td>5.0</td>\n",
       "    </tr>\n",
       "    <tr>\n",
       "      <th>54483</th>\n",
       "      <td>2765</td>\n",
       "      <td>2</td>\n",
       "      <td>Action|Adventure|Sci-Fi|Thriller</td>\n",
       "      <td>Road Warrior, The (Mad Max 2) (1981)</td>\n",
       "      <td>5.0</td>\n",
       "    </tr>\n",
       "    <tr>\n",
       "      <th>18806</th>\n",
       "      <td>656</td>\n",
       "      <td>2</td>\n",
       "      <td>Action|Adventure|Sci-Fi|Thriller</td>\n",
       "      <td>Escape from L.A. (1996)</td>\n",
       "      <td>5.0</td>\n",
       "    </tr>\n",
       "    <tr>\n",
       "      <th>49044</th>\n",
       "      <td>2280</td>\n",
       "      <td>2</td>\n",
       "      <td>Horror|Sci-Fi</td>\n",
       "      <td>Piranha (1978)</td>\n",
       "      <td>4.5</td>\n",
       "    </tr>\n",
       "    <tr>\n",
       "      <th>31927</th>\n",
       "      <td>1190</td>\n",
       "      <td>2</td>\n",
       "      <td>Action|Adventure|Fantasy</td>\n",
       "      <td>Conan the Barbarian (1982)</td>\n",
       "      <td>4.5</td>\n",
       "    </tr>\n",
       "    <tr>\n",
       "      <th>40058</th>\n",
       "      <td>1701</td>\n",
       "      <td>2</td>\n",
       "      <td>Action|Horror|Sci-Fi|Thriller</td>\n",
       "      <td>Thing, The (1982)</td>\n",
       "      <td>4.0</td>\n",
       "    </tr>\n",
       "    <tr>\n",
       "      <th>27769</th>\n",
       "      <td>974</td>\n",
       "      <td>2</td>\n",
       "      <td>Action|Adventure|Fantasy</td>\n",
       "      <td>Highlander (1986)</td>\n",
       "      <td>3.5</td>\n",
       "    </tr>\n",
       "    <tr>\n",
       "      <th>29401</th>\n",
       "      <td>1054</td>\n",
       "      <td>2</td>\n",
       "      <td>Adventure|Sci-Fi</td>\n",
       "      <td>Star Trek: The Motion Picture (1979)</td>\n",
       "      <td>3.0</td>\n",
       "    </tr>\n",
       "  </tbody>\n",
       "</table>\n",
       "</div>"
      ],
      "text/plain": [
       "       MovieID  UserID                            Genres  \\\n",
       "63308     3734       2            Action|Sci-Fi|Thriller   \n",
       "46993     2141       2         Adventure|Sci-Fi|Thriller   \n",
       "60071     3335       2                     Comedy|Horror   \n",
       "54483     2765       2  Action|Adventure|Sci-Fi|Thriller   \n",
       "18806      656       2  Action|Adventure|Sci-Fi|Thriller   \n",
       "49044     2280       2                     Horror|Sci-Fi   \n",
       "31927     1190       2          Action|Adventure|Fantasy   \n",
       "40058     1701       2     Action|Horror|Sci-Fi|Thriller   \n",
       "27769      974       2          Action|Adventure|Fantasy   \n",
       "29401     1054       2                  Adventure|Sci-Fi   \n",
       "\n",
       "                                      Title  Rating  \n",
       "63308                      Hangar 18 (1980)     5.0  \n",
       "46993                       Saturn 3 (1980)     5.0  \n",
       "60071     The Lair of the White Worm (1988)     5.0  \n",
       "54483  Road Warrior, The (Mad Max 2) (1981)     5.0  \n",
       "18806               Escape from L.A. (1996)     5.0  \n",
       "49044                        Piranha (1978)     4.5  \n",
       "31927            Conan the Barbarian (1982)     4.5  \n",
       "40058                     Thing, The (1982)     4.0  \n",
       "27769                     Highlander (1986)     3.5  \n",
       "29401  Star Trek: The Motion Picture (1979)     3.0  "
      ]
     },
     "execution_count": 10,
     "metadata": {},
     "output_type": "execute_result"
    }
   ],
   "source": [
    "bestRated(rec, user_id).head(10)"
   ]
  },
  {
   "cell_type": "markdown",
   "metadata": {},
   "source": [
    "## Similar items\n",
    "Some suggestions:\n",
    "* 911: Star Wars Episode VI\n",
    "* 3638: The Lord of the Rings: The Fellowship of the Ring\n",
    "* 957: The Shining\n",
    "* 474: Blade Runner"
   ]
  },
  {
   "cell_type": "code",
   "execution_count": 11,
   "metadata": {},
   "outputs": [
    {
     "data": {
      "text/html": [
       "<div>\n",
       "<style scoped>\n",
       "    .dataframe tbody tr th:only-of-type {\n",
       "        vertical-align: middle;\n",
       "    }\n",
       "\n",
       "    .dataframe tbody tr th {\n",
       "        vertical-align: top;\n",
       "    }\n",
       "\n",
       "    .dataframe thead th {\n",
       "        text-align: right;\n",
       "    }\n",
       "</style>\n",
       "<table border=\"1\" class=\"dataframe\">\n",
       "  <thead>\n",
       "    <tr style=\"text-align: right;\">\n",
       "      <th></th>\n",
       "      <th>MovieID</th>\n",
       "      <th>Title</th>\n",
       "      <th>Genres</th>\n",
       "      <th>Similarity</th>\n",
       "    </tr>\n",
       "  </thead>\n",
       "  <tbody>\n",
       "    <tr>\n",
       "      <th>3638</th>\n",
       "      <td>3638</td>\n",
       "      <td>Lord of the Rings: The Fellowship of the Ring,...</td>\n",
       "      <td>Adventure|Fantasy</td>\n",
       "      <td>1.000000</td>\n",
       "    </tr>\n",
       "    <tr>\n",
       "      <th>4137</th>\n",
       "      <td>4137</td>\n",
       "      <td>Lord of the Rings: The Two Towers, The (2002)</td>\n",
       "      <td>Adventure|Fantasy</td>\n",
       "      <td>0.772991</td>\n",
       "    </tr>\n",
       "    <tr>\n",
       "      <th>4800</th>\n",
       "      <td>4800</td>\n",
       "      <td>Lord of the Rings: The Return of the King, The...</td>\n",
       "      <td>Action|Adventure|Drama|Fantasy</td>\n",
       "      <td>0.748294</td>\n",
       "    </tr>\n",
       "    <tr>\n",
       "      <th>3568</th>\n",
       "      <td>3568</td>\n",
       "      <td>Monsters, Inc. (2001)</td>\n",
       "      <td>Adventure|Animation|Children|Comedy|Fantasy</td>\n",
       "      <td>0.748244</td>\n",
       "    </tr>\n",
       "    <tr>\n",
       "      <th>659</th>\n",
       "      <td>659</td>\n",
       "      <td>Godfather, The (1972)</td>\n",
       "      <td>Crime|Drama</td>\n",
       "      <td>0.722716</td>\n",
       "    </tr>\n",
       "    <tr>\n",
       "      <th>3194</th>\n",
       "      <td>3194</td>\n",
       "      <td>Shrek (2001)</td>\n",
       "      <td>Adventure|Animation|Children|Comedy|Fantasy|Ro...</td>\n",
       "      <td>0.721707</td>\n",
       "    </tr>\n",
       "    <tr>\n",
       "      <th>4360</th>\n",
       "      <td>4360</td>\n",
       "      <td>Finding Nemo (2003)</td>\n",
       "      <td>Adventure|Animation|Children|Comedy</td>\n",
       "      <td>0.691656</td>\n",
       "    </tr>\n",
       "    <tr>\n",
       "      <th>277</th>\n",
       "      <td>277</td>\n",
       "      <td>Shawshank Redemption, The (1994)</td>\n",
       "      <td>Crime|Drama</td>\n",
       "      <td>0.688652</td>\n",
       "    </tr>\n",
       "    <tr>\n",
       "      <th>2078</th>\n",
       "      <td>2078</td>\n",
       "      <td>Sixth Sense, The (1999)</td>\n",
       "      <td>Drama|Horror|Mystery</td>\n",
       "      <td>0.683175</td>\n",
       "    </tr>\n",
       "    <tr>\n",
       "      <th>3141</th>\n",
       "      <td>3141</td>\n",
       "      <td>Memento (2000)</td>\n",
       "      <td>Mystery|Thriller</td>\n",
       "      <td>0.677524</td>\n",
       "    </tr>\n",
       "  </tbody>\n",
       "</table>\n",
       "</div>"
      ],
      "text/plain": [
       "      MovieID                                              Title  \\\n",
       "3638     3638  Lord of the Rings: The Fellowship of the Ring,...   \n",
       "4137     4137      Lord of the Rings: The Two Towers, The (2002)   \n",
       "4800     4800  Lord of the Rings: The Return of the King, The...   \n",
       "3568     3568                              Monsters, Inc. (2001)   \n",
       "659       659                              Godfather, The (1972)   \n",
       "3194     3194                                       Shrek (2001)   \n",
       "4360     4360                                Finding Nemo (2003)   \n",
       "277       277                   Shawshank Redemption, The (1994)   \n",
       "2078     2078                            Sixth Sense, The (1999)   \n",
       "3141     3141                                     Memento (2000)   \n",
       "\n",
       "                                                 Genres  Similarity  \n",
       "3638                                  Adventure|Fantasy    1.000000  \n",
       "4137                                  Adventure|Fantasy    0.772991  \n",
       "4800                     Action|Adventure|Drama|Fantasy    0.748294  \n",
       "3568        Adventure|Animation|Children|Comedy|Fantasy    0.748244  \n",
       "659                                         Crime|Drama    0.722716  \n",
       "3194  Adventure|Animation|Children|Comedy|Fantasy|Ro...    0.721707  \n",
       "4360                Adventure|Animation|Children|Comedy    0.691656  \n",
       "277                                         Crime|Drama    0.688652  \n",
       "2078                               Drama|Horror|Mystery    0.683175  \n",
       "3141                                   Mystery|Thriller    0.677524  "
      ]
     },
     "execution_count": 11,
     "metadata": {},
     "output_type": "execute_result"
    }
   ],
   "source": [
    "rec.suggestSimilar(3638)"
   ]
  },
  {
   "cell_type": "markdown",
   "metadata": {},
   "source": [
    "## Assessing results"
   ]
  },
  {
   "cell_type": "markdown",
   "metadata": {},
   "source": [
    "The following two cells may take a few minutes to run. By default there are 10 test observations. If this is the case, the mean precision and the mean recall at 10 are expected to be the same."
   ]
  },
  {
   "cell_type": "code",
   "execution_count": 15,
   "metadata": {},
   "outputs": [
    {
     "name": "stdout",
     "output_type": "stream",
     "text": [
      "Mean precision at 10: 0.02786885245901636\n",
      "Executed 'Mean precision'.  Elapsed time: 106.111322s\n"
     ]
    }
   ],
   "source": [
    "with utilities.codeTimer(\"Mean precision\"):\n",
    "    print(\"Mean precision at 10: {}\".format(rec.meanPrecision(10)))"
   ]
  },
  {
   "cell_type": "code",
   "execution_count": 16,
   "metadata": {},
   "outputs": [
    {
     "name": "stdout",
     "output_type": "stream",
     "text": [
      "Mean recall at 10: 0.02786885245901636\n",
      "Executed 'Mean recall'.  Elapsed time: 128.173825s\n"
     ]
    }
   ],
   "source": [
    "with utilities.codeTimer(\"Mean recall\"):\n",
    "    print(\"Mean recall at 10: {}\".format(rec.meanRecall(10)))"
   ]
  },
  {
   "cell_type": "markdown",
   "metadata": {},
   "source": [
    "## New user recommendation"
   ]
  },
  {
   "cell_type": "code",
   "execution_count": 17,
   "metadata": {},
   "outputs": [
    {
     "data": {
      "text/plain": [
       "(610, 9721)"
      ]
     },
     "execution_count": 17,
     "metadata": {},
     "output_type": "execute_result"
    }
   ],
   "source": [
    "np.random.seed(17)\n",
    "\n",
    "new_user, new_user_id = rec.generateNewUser(50)\n",
    "np.shape(rec.R)"
   ]
  },
  {
   "cell_type": "code",
   "execution_count": 18,
   "metadata": {},
   "outputs": [],
   "source": [
    "new_user_id\n",
    "reg_lambda = 0.15"
   ]
  },
  {
   "cell_type": "code",
   "execution_count": 19,
   "metadata": {},
   "outputs": [
    {
     "name": "stdout",
     "output_type": "stream",
     "text": [
      "Executed 'New user factorisation'.  Elapsed time: 0.636674s\n"
     ]
    },
    {
     "data": {
      "text/plain": [
       "(611, 9721)"
      ]
     },
     "execution_count": 19,
     "metadata": {},
     "output_type": "execute_result"
    }
   ],
   "source": [
    "with utilities.codeTimer(\"New user factorisation\"):\n",
    "    rec.addNewUser(new_user, reg_lambda)\n",
    "np.shape(rec.R)"
   ]
  },
  {
   "cell_type": "code",
   "execution_count": 20,
   "metadata": {},
   "outputs": [
    {
     "data": {
      "text/html": [
       "<div>\n",
       "<style scoped>\n",
       "    .dataframe tbody tr th:only-of-type {\n",
       "        vertical-align: middle;\n",
       "    }\n",
       "\n",
       "    .dataframe tbody tr th {\n",
       "        vertical-align: top;\n",
       "    }\n",
       "\n",
       "    .dataframe thead th {\n",
       "        text-align: right;\n",
       "    }\n",
       "</style>\n",
       "<table border=\"1\" class=\"dataframe\">\n",
       "  <thead>\n",
       "    <tr style=\"text-align: right;\">\n",
       "      <th></th>\n",
       "      <th>MovieID</th>\n",
       "      <th>Prediction</th>\n",
       "      <th>Title</th>\n",
       "      <th>Genres</th>\n",
       "      <th>AVG_Rating</th>\n",
       "    </tr>\n",
       "  </thead>\n",
       "  <tbody>\n",
       "    <tr>\n",
       "      <th>167</th>\n",
       "      <td>167</td>\n",
       "      <td>7.55</td>\n",
       "      <td>Strange Days (1995)</td>\n",
       "      <td>Action|Crime|Drama|Mystery|Sci-Fi|Thriller</td>\n",
       "      <td>3.250000</td>\n",
       "    </tr>\n",
       "    <tr>\n",
       "      <th>834</th>\n",
       "      <td>839</td>\n",
       "      <td>7.52</td>\n",
       "      <td>Top Gun (1986)</td>\n",
       "      <td>Action|Romance</td>\n",
       "      <td>3.280488</td>\n",
       "    </tr>\n",
       "    <tr>\n",
       "      <th>679</th>\n",
       "      <td>681</td>\n",
       "      <td>7.28</td>\n",
       "      <td>Singin' in the Rain (1952)</td>\n",
       "      <td>Comedy|Musical|Romance</td>\n",
       "      <td>4.074468</td>\n",
       "    </tr>\n",
       "    <tr>\n",
       "      <th>893</th>\n",
       "      <td>899</td>\n",
       "      <td>7.02</td>\n",
       "      <td>Princess Bride, The (1987)</td>\n",
       "      <td>Action|Adventure|Comedy|Fantasy|Romance</td>\n",
       "      <td>4.232394</td>\n",
       "    </tr>\n",
       "    <tr>\n",
       "      <th>1421</th>\n",
       "      <td>1432</td>\n",
       "      <td>6.97</td>\n",
       "      <td>Kramer vs. Kramer (1979)</td>\n",
       "      <td>Drama</td>\n",
       "      <td>3.892857</td>\n",
       "    </tr>\n",
       "    <tr>\n",
       "      <th>836</th>\n",
       "      <td>841</td>\n",
       "      <td>6.79</td>\n",
       "      <td>Streetcar Named Desire, A (1951)</td>\n",
       "      <td>Drama</td>\n",
       "      <td>4.475000</td>\n",
       "    </tr>\n",
       "    <tr>\n",
       "      <th>688</th>\n",
       "      <td>691</td>\n",
       "      <td>6.79</td>\n",
       "      <td>Apartment, The (1960)</td>\n",
       "      <td>Comedy|Drama|Romance</td>\n",
       "      <td>3.962963</td>\n",
       "    </tr>\n",
       "    <tr>\n",
       "      <th>1200</th>\n",
       "      <td>1209</td>\n",
       "      <td>6.74</td>\n",
       "      <td>Air Force One (1997)</td>\n",
       "      <td>Action|Thriller</td>\n",
       "      <td>3.357143</td>\n",
       "    </tr>\n",
       "    <tr>\n",
       "      <th>1078</th>\n",
       "      <td>1086</td>\n",
       "      <td>6.36</td>\n",
       "      <td>Hamlet (1996)</td>\n",
       "      <td>Crime|Drama|Romance</td>\n",
       "      <td>3.933333</td>\n",
       "    </tr>\n",
       "    <tr>\n",
       "      <th>1183</th>\n",
       "      <td>1192</td>\n",
       "      <td>6.26</td>\n",
       "      <td>Cop Land (1997)</td>\n",
       "      <td>Action|Crime|Drama|Thriller</td>\n",
       "      <td>3.233333</td>\n",
       "    </tr>\n",
       "  </tbody>\n",
       "</table>\n",
       "</div>"
      ],
      "text/plain": [
       "      MovieID  Prediction                             Title  \\\n",
       "167       167        7.55               Strange Days (1995)   \n",
       "834       839        7.52                    Top Gun (1986)   \n",
       "679       681        7.28        Singin' in the Rain (1952)   \n",
       "893       899        7.02        Princess Bride, The (1987)   \n",
       "1421     1432        6.97          Kramer vs. Kramer (1979)   \n",
       "836       841        6.79  Streetcar Named Desire, A (1951)   \n",
       "688       691        6.79             Apartment, The (1960)   \n",
       "1200     1209        6.74              Air Force One (1997)   \n",
       "1078     1086        6.36                     Hamlet (1996)   \n",
       "1183     1192        6.26                   Cop Land (1997)   \n",
       "\n",
       "                                          Genres  AVG_Rating  \n",
       "167   Action|Crime|Drama|Mystery|Sci-Fi|Thriller    3.250000  \n",
       "834                               Action|Romance    3.280488  \n",
       "679                       Comedy|Musical|Romance    4.074468  \n",
       "893      Action|Adventure|Comedy|Fantasy|Romance    4.232394  \n",
       "1421                                       Drama    3.892857  \n",
       "836                                        Drama    4.475000  \n",
       "688                         Comedy|Drama|Romance    3.962963  \n",
       "1200                             Action|Thriller    3.357143  \n",
       "1078                         Crime|Drama|Romance    3.933333  \n",
       "1183                 Action|Crime|Drama|Thriller    3.233333  "
      ]
     },
     "execution_count": 20,
     "metadata": {},
     "output_type": "execute_result"
    }
   ],
   "source": [
    "recommend(rec, new_user_id).head(10)"
   ]
  },
  {
   "cell_type": "code",
   "execution_count": 21,
   "metadata": {},
   "outputs": [
    {
     "data": {
      "text/html": [
       "<div>\n",
       "<style scoped>\n",
       "    .dataframe tbody tr th:only-of-type {\n",
       "        vertical-align: middle;\n",
       "    }\n",
       "\n",
       "    .dataframe tbody tr th {\n",
       "        vertical-align: top;\n",
       "    }\n",
       "\n",
       "    .dataframe thead th {\n",
       "        text-align: right;\n",
       "    }\n",
       "</style>\n",
       "<table border=\"1\" class=\"dataframe\">\n",
       "  <thead>\n",
       "    <tr style=\"text-align: right;\">\n",
       "      <th></th>\n",
       "      <th>MovieID</th>\n",
       "      <th>UserID</th>\n",
       "      <th>Genres</th>\n",
       "      <th>Title</th>\n",
       "      <th>Rating</th>\n",
       "    </tr>\n",
       "  </thead>\n",
       "  <tbody>\n",
       "    <tr>\n",
       "      <th>94772</th>\n",
       "      <td>7518</td>\n",
       "      <td>610</td>\n",
       "      <td>Crime|Horror|Thriller</td>\n",
       "      <td>I Spit on Your Grave (2010)</td>\n",
       "      <td>5.0</td>\n",
       "    </tr>\n",
       "    <tr>\n",
       "      <th>94740</th>\n",
       "      <td>1226</td>\n",
       "      <td>610</td>\n",
       "      <td>Crime|Drama|Mystery</td>\n",
       "      <td>U Turn (1997)</td>\n",
       "      <td>5.0</td>\n",
       "    </tr>\n",
       "    <tr>\n",
       "      <th>94771</th>\n",
       "      <td>7467</td>\n",
       "      <td>610</td>\n",
       "      <td>Animation|Children|Comedy|Fantasy|Musical|Roma...</td>\n",
       "      <td>Tangled (2010)</td>\n",
       "      <td>5.0</td>\n",
       "    </tr>\n",
       "    <tr>\n",
       "      <th>94766</th>\n",
       "      <td>6617</td>\n",
       "      <td>610</td>\n",
       "      <td>Drama|Musical</td>\n",
       "      <td>August Rush (2007)</td>\n",
       "      <td>5.0</td>\n",
       "    </tr>\n",
       "    <tr>\n",
       "      <th>94764</th>\n",
       "      <td>6472</td>\n",
       "      <td>610</td>\n",
       "      <td>Children|Comedy</td>\n",
       "      <td>It's a Very Merry Muppet Christmas Movie (2002)</td>\n",
       "      <td>5.0</td>\n",
       "    </tr>\n",
       "    <tr>\n",
       "      <th>94761</th>\n",
       "      <td>6091</td>\n",
       "      <td>610</td>\n",
       "      <td>Adventure|Comedy</td>\n",
       "      <td>Cheaper by the Dozen 2 (2005)</td>\n",
       "      <td>4.5</td>\n",
       "    </tr>\n",
       "    <tr>\n",
       "      <th>94748</th>\n",
       "      <td>3386</td>\n",
       "      <td>610</td>\n",
       "      <td>Crime|Drama</td>\n",
       "      <td>Innocent Man, An (1989)</td>\n",
       "      <td>4.5</td>\n",
       "    </tr>\n",
       "    <tr>\n",
       "      <th>94774</th>\n",
       "      <td>8193</td>\n",
       "      <td>610</td>\n",
       "      <td>Comedy|Romance</td>\n",
       "      <td>Not Suitable for Children (2012)</td>\n",
       "      <td>4.5</td>\n",
       "    </tr>\n",
       "    <tr>\n",
       "      <th>94770</th>\n",
       "      <td>7437</td>\n",
       "      <td>610</td>\n",
       "      <td>Drama|Sci-Fi</td>\n",
       "      <td>Monsters (2010)</td>\n",
       "      <td>4.5</td>\n",
       "    </tr>\n",
       "    <tr>\n",
       "      <th>94767</th>\n",
       "      <td>6912</td>\n",
       "      <td>610</td>\n",
       "      <td>Adventure|Fantasy</td>\n",
       "      <td>Dinotopia (2002)</td>\n",
       "      <td>4.5</td>\n",
       "    </tr>\n",
       "  </tbody>\n",
       "</table>\n",
       "</div>"
      ],
      "text/plain": [
       "       MovieID  UserID                                             Genres  \\\n",
       "94772     7518     610                              Crime|Horror|Thriller   \n",
       "94740     1226     610                                Crime|Drama|Mystery   \n",
       "94771     7467     610  Animation|Children|Comedy|Fantasy|Musical|Roma...   \n",
       "94766     6617     610                                      Drama|Musical   \n",
       "94764     6472     610                                    Children|Comedy   \n",
       "94761     6091     610                                   Adventure|Comedy   \n",
       "94748     3386     610                                        Crime|Drama   \n",
       "94774     8193     610                                     Comedy|Romance   \n",
       "94770     7437     610                                       Drama|Sci-Fi   \n",
       "94767     6912     610                                  Adventure|Fantasy   \n",
       "\n",
       "                                                 Title  Rating  \n",
       "94772                      I Spit on Your Grave (2010)     5.0  \n",
       "94740                                    U Turn (1997)     5.0  \n",
       "94771                                   Tangled (2010)     5.0  \n",
       "94766                               August Rush (2007)     5.0  \n",
       "94764  It's a Very Merry Muppet Christmas Movie (2002)     5.0  \n",
       "94761                    Cheaper by the Dozen 2 (2005)     4.5  \n",
       "94748                          Innocent Man, An (1989)     4.5  \n",
       "94774                 Not Suitable for Children (2012)     4.5  \n",
       "94770                                  Monsters (2010)     4.5  \n",
       "94767                                 Dinotopia (2002)     4.5  "
      ]
     },
     "execution_count": 21,
     "metadata": {},
     "output_type": "execute_result"
    }
   ],
   "source": [
    "bestRated(rec, new_user_id).head(10)"
   ]
  },
  {
   "cell_type": "markdown",
   "metadata": {},
   "source": [
    "## Cold start problem\n",
    "If a new user has rated less than 10 movies, the most popular and unseen movies will be recommended."
   ]
  },
  {
   "cell_type": "code",
   "execution_count": 22,
   "metadata": {},
   "outputs": [
    {
     "name": "stdout",
     "output_type": "stream",
     "text": [
      "Executed 'New user factorisation'.  Elapsed time: 0.708185s\n"
     ]
    }
   ],
   "source": [
    "np.random.seed(17)\n",
    "\n",
    "new_user, new_user_id = rec.generateNewUser(8)\n",
    "np.shape(rec.R)\n",
    "\n",
    "with utilities.codeTimer(\"New user factorisation\"):\n",
    "    rec.addNewUser(new_user, reg_lambda)"
   ]
  },
  {
   "cell_type": "code",
   "execution_count": 23,
   "metadata": {},
   "outputs": [
    {
     "name": "stdout",
     "output_type": "stream",
     "text": [
      "Too few movies! Most poular movies will be suggested.\n"
     ]
    },
    {
     "data": {
      "text/html": [
       "<div>\n",
       "<style scoped>\n",
       "    .dataframe tbody tr th:only-of-type {\n",
       "        vertical-align: middle;\n",
       "    }\n",
       "\n",
       "    .dataframe tbody tr th {\n",
       "        vertical-align: top;\n",
       "    }\n",
       "\n",
       "    .dataframe thead th {\n",
       "        text-align: right;\n",
       "    }\n",
       "</style>\n",
       "<table border=\"1\" class=\"dataframe\">\n",
       "  <thead>\n",
       "    <tr style=\"text-align: right;\">\n",
       "      <th></th>\n",
       "      <th>MovieID</th>\n",
       "      <th>Title</th>\n",
       "      <th>Genres</th>\n",
       "      <th>AVG_Rating</th>\n",
       "      <th>Counts</th>\n",
       "    </tr>\n",
       "  </thead>\n",
       "  <tbody>\n",
       "    <tr>\n",
       "      <th>314</th>\n",
       "      <td>314</td>\n",
       "      <td>Forrest Gump (1994)</td>\n",
       "      <td>Comedy|Drama|Romance|War</td>\n",
       "      <td>4.173913</td>\n",
       "      <td>322</td>\n",
       "    </tr>\n",
       "    <tr>\n",
       "      <th>277</th>\n",
       "      <td>277</td>\n",
       "      <td>Shawshank Redemption, The (1994)</td>\n",
       "      <td>Crime|Drama</td>\n",
       "      <td>4.431746</td>\n",
       "      <td>315</td>\n",
       "    </tr>\n",
       "    <tr>\n",
       "      <th>257</th>\n",
       "      <td>257</td>\n",
       "      <td>Pulp Fiction (1994)</td>\n",
       "      <td>Comedy|Crime|Drama|Thriller</td>\n",
       "      <td>4.197068</td>\n",
       "      <td>307</td>\n",
       "    </tr>\n",
       "    <tr>\n",
       "      <th>1933</th>\n",
       "      <td>1939</td>\n",
       "      <td>Matrix, The (1999)</td>\n",
       "      <td>Action|Sci-Fi|Thriller</td>\n",
       "      <td>4.182510</td>\n",
       "      <td>263</td>\n",
       "    </tr>\n",
       "    <tr>\n",
       "      <th>224</th>\n",
       "      <td>224</td>\n",
       "      <td>Star Wars: Episode IV - A New Hope (1977)</td>\n",
       "      <td>Action|Adventure|Sci-Fi</td>\n",
       "      <td>4.231076</td>\n",
       "      <td>251</td>\n",
       "    </tr>\n",
       "    <tr>\n",
       "      <th>97</th>\n",
       "      <td>97</td>\n",
       "      <td>Braveheart (1995)</td>\n",
       "      <td>Action|Drama|War</td>\n",
       "      <td>4.031646</td>\n",
       "      <td>237</td>\n",
       "    </tr>\n",
       "    <tr>\n",
       "      <th>509</th>\n",
       "      <td>510</td>\n",
       "      <td>Silence of the Lambs, The (1991)</td>\n",
       "      <td>Crime|Horror|Thriller</td>\n",
       "      <td>4.146552</td>\n",
       "      <td>232</td>\n",
       "    </tr>\n",
       "    <tr>\n",
       "      <th>418</th>\n",
       "      <td>418</td>\n",
       "      <td>Jurassic Park (1993)</td>\n",
       "      <td>Action|Adventure|Sci-Fi|Thriller</td>\n",
       "      <td>3.742009</td>\n",
       "      <td>219</td>\n",
       "    </tr>\n",
       "    <tr>\n",
       "      <th>0</th>\n",
       "      <td>0</td>\n",
       "      <td>Toy Story (1995)</td>\n",
       "      <td>Adventure|Animation|Children|Comedy|Fantasy</td>\n",
       "      <td>3.920930</td>\n",
       "      <td>215</td>\n",
       "    </tr>\n",
       "    <tr>\n",
       "      <th>2216</th>\n",
       "      <td>2226</td>\n",
       "      <td>Fight Club (1999)</td>\n",
       "      <td>Action|Crime|Drama|Thriller</td>\n",
       "      <td>4.258216</td>\n",
       "      <td>213</td>\n",
       "    </tr>\n",
       "  </tbody>\n",
       "</table>\n",
       "</div>"
      ],
      "text/plain": [
       "      MovieID                                      Title  \\\n",
       "314       314                        Forrest Gump (1994)   \n",
       "277       277           Shawshank Redemption, The (1994)   \n",
       "257       257                        Pulp Fiction (1994)   \n",
       "1933     1939                         Matrix, The (1999)   \n",
       "224       224  Star Wars: Episode IV - A New Hope (1977)   \n",
       "97         97                          Braveheart (1995)   \n",
       "509       510           Silence of the Lambs, The (1991)   \n",
       "418       418                       Jurassic Park (1993)   \n",
       "0           0                           Toy Story (1995)   \n",
       "2216     2226                          Fight Club (1999)   \n",
       "\n",
       "                                           Genres  AVG_Rating  Counts  \n",
       "314                      Comedy|Drama|Romance|War    4.173913     322  \n",
       "277                                   Crime|Drama    4.431746     315  \n",
       "257                   Comedy|Crime|Drama|Thriller    4.197068     307  \n",
       "1933                       Action|Sci-Fi|Thriller    4.182510     263  \n",
       "224                       Action|Adventure|Sci-Fi    4.231076     251  \n",
       "97                               Action|Drama|War    4.031646     237  \n",
       "509                         Crime|Horror|Thriller    4.146552     232  \n",
       "418              Action|Adventure|Sci-Fi|Thriller    3.742009     219  \n",
       "0     Adventure|Animation|Children|Comedy|Fantasy    3.920930     215  \n",
       "2216                  Action|Crime|Drama|Thriller    4.258216     213  "
      ]
     },
     "execution_count": 23,
     "metadata": {},
     "output_type": "execute_result"
    }
   ],
   "source": [
    "recommend(rec, new_user_id).head(10)"
   ]
  }
 ],
 "metadata": {
  "kernelspec": {
   "display_name": "Python 3",
   "language": "python",
   "name": "python3"
  },
  "language_info": {
   "codemirror_mode": {
    "name": "ipython",
    "version": 3
   },
   "file_extension": ".py",
   "mimetype": "text/x-python",
   "name": "python",
   "nbconvert_exporter": "python",
   "pygments_lexer": "ipython3",
   "version": "3.7.3"
  }
 },
 "nbformat": 4,
 "nbformat_minor": 4
}
