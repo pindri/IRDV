{
 "cells": [
  {
   "cell_type": "code",
   "execution_count": 1,
   "metadata": {},
   "outputs": [],
   "source": [
    "import numpy as np\n",
    "import pandas as pd\n",
    "import matplotlib.pyplot as plt"
   ]
  },
  {
   "cell_type": "code",
   "execution_count": 2,
   "metadata": {},
   "outputs": [],
   "source": [
    "import utilities # codeTimer context manager.\n",
    "import data_preparation # Load dataset and build required matrices.\n",
    "import factorisation # WALS factorisation.\n",
    "import recommender # Recommender system."
   ]
  },
  {
   "cell_type": "markdown",
   "metadata": {},
   "source": [
    "### Loading dataset and creating recommender system"
   ]
  },
  {
   "cell_type": "code",
   "execution_count": 3,
   "metadata": {},
   "outputs": [
    {
     "name": "stdout",
     "output_type": "stream",
     "text": [
      "The dataframe contains 610 users and 9719 items.\n",
      "Prediction MAE: 46.37829767716197\n"
     ]
    }
   ],
   "source": [
    "np.random.seed(17)\n",
    "\n",
    "mov, rat, rat_test = data_preparation.importDataset()\n",
    "rec = recommender.recommenderSystem(mov, rat, rat_test)\n",
    "print(\"Prediction MAE: {}\".format(rec.predictionError()))"
   ]
  },
  {
   "cell_type": "code",
   "execution_count": null,
   "metadata": {},
   "outputs": [],
   "source": [
    "# The a pre-trained recommander system can be loaded with the following line.\n",
    "\n",
    "#utilities.loadRecSys(rec, \"rec.npz\")"
   ]
  },
  {
   "cell_type": "code",
   "execution_count": 8,
   "metadata": {},
   "outputs": [
    {
     "data": {
      "text/plain": [
       "array([[4. , 0. , 4. , ..., 0. , 0. , 0. ],\n",
       "       [0. , 0. , 0. , ..., 0. , 0. , 0. ],\n",
       "       [0. , 0. , 0. , ..., 0. , 0. , 0. ],\n",
       "       ...,\n",
       "       [2.5, 2. , 2. , ..., 0. , 0. , 0. ],\n",
       "       [3. , 0. , 0. , ..., 0. , 0. , 0. ],\n",
       "       [5. , 0. , 0. , ..., 0. , 0. , 0. ]])"
      ]
     },
     "execution_count": 8,
     "metadata": {},
     "output_type": "execute_result"
    }
   ],
   "source": [
    "rec.R"
   ]
  },
  {
   "cell_type": "markdown",
   "metadata": {},
   "source": [
    "### Explorative analysis"
   ]
  },
  {
   "cell_type": "code",
   "execution_count": 4,
   "metadata": {},
   "outputs": [
    {
     "name": "stdout",
     "output_type": "stream",
     "text": [
      "Matrix sparsity: 1.364506569015567%\n"
     ]
    }
   ],
   "source": [
    "np.count_nonzero(rec.R)\n",
    "sparsity = np.count_nonzero(rec.R)/np.prod(rec.R.shape)\n",
    "print(\"Matrix sparsity: {}%\".format(sparsity*100))"
   ]
  },
  {
   "cell_type": "code",
   "execution_count": 7,
   "metadata": {},
   "outputs": [
    {
     "data": {
      "image/png": "[encoded data removed]",
      "text/plain": [
       "<Figure size 432x288 with 1 Axes>"
      ]
     },
     "metadata": {
      "needs_background": "light"
     },
     "output_type": "display_data"
    }
   ],
   "source": [
    "# Distribution of number of ratings.\n",
    "from matplotlib.ticker import MaxNLocator\n",
    "plt.rcParams.update({'font.size': 13})\n",
    "\n",
    "n_ratings = [np.count_nonzero(i) for i in rec.R]\n",
    "\n",
    "\n",
    "fig, ax = plt.subplots()\n",
    "\n",
    "ax.hist(n_ratings, bins = 150)\n",
    "\n",
    "ax.set_title(\"Number of ratings histogram\")\n",
    "ax.set_ylabel(\"User count\")\n",
    "ax.set_xlim(0, 600)\n",
    "ax.set_xlabel(\"Number of ratings\")\n",
    "ax.xaxis.set_major_locator(MaxNLocator(integer = True))\n",
    "\n",
    "plt.savefig(\"n_ratings.pdf\", transparent = True)\n",
    "plt.show()"
   ]
  },
  {
   "cell_type": "code",
   "execution_count": 6,
   "metadata": {},
   "outputs": [
    {
     "data": {
      "image/png": "[encoded data removed]",
      "text/plain": [
       "<Figure size 432x288 with 1 Axes>"
      ]
     },
     "metadata": {
      "needs_background": "light"
     },
     "output_type": "display_data"
    }
   ],
   "source": [
    "# Counting number ratings.\n",
    "rates = rec.R.flatten()\n",
    "rates = rates[rates != 0]\n",
    "unique, counts = np.unique(rates, return_counts = True)\n",
    "\n",
    "fig, ax = plt.subplots()\n",
    "ax.bar(unique, counts, width = 0.4)\n",
    "\n",
    "ax.set_title(\"Distribution of ratings\")\n",
    "ax.set_ylabel(\"Count\")\n",
    "ax.set_xlabel(\"Rating\")\n",
    "\n",
    "plt.savefig(\"ratings_dist.pdf\", transparent = True)\n",
    "plt.show()"
   ]
  },
  {
   "cell_type": "markdown",
   "metadata": {},
   "source": [
    "### Selecting best regression coefficient with CV"
   ]
  },
  {
   "cell_type": "code",
   "execution_count": null,
   "metadata": {},
   "outputs": [],
   "source": [
    "np.random.seed(17)\n",
    "\n",
    "reg_lambda = [0.05, 0.15, 0.30]\n",
    "\n",
    "n_folds = 4\n",
    "n_iter = 4\n",
    "\n",
    "# reg_lambda is required to be a list.\n",
    "with utilities.codeTimer(\"Best regression lambda CV\"):\n",
    "    best_lambda, errors = rec.bestLambdaCV(n_folds, n_iter, reg_lambda)"
   ]
  },
  {
   "cell_type": "code",
   "execution_count": null,
   "metadata": {},
   "outputs": [],
   "source": [
    "# Plotting results.\n",
    "\n",
    "fig, ax = plt.subplots()\n",
    "x = [i + 1 for i in range(n_iter)]\n",
    "for i in range(len(reg_lambda)):\n",
    "    ax.plot(x, errors[i][1])\n",
    "\n",
    "ax.set_title(\"kFoldCV error\")\n",
    "ax.set_ylabel(\"MAE\")\n",
    "ax.set_xlabel(\"Iteration\")\n",
    "ax.xaxis.set_major_locator(MaxNLocator(integer = True))\n",
    "ax.legend(reg_lambda, title = r\"$\\lambda$ values\")\n",
    "\n",
    "plt.savefig(\"TestErrorCV.pdf\", transparent = True)\n",
    "plt.show()"
   ]
  },
  {
   "cell_type": "markdown",
   "metadata": {},
   "source": [
    "### Factorisation"
   ]
  },
  {
   "cell_type": "code",
   "execution_count": null,
   "metadata": {},
   "outputs": [],
   "source": [
    "# Expect ~ 52 min for the execution on the whole dataset with 10 iterations.\n",
    "#reg_lambda = best_lambda\n",
    "reg_lambda = 0.15\n",
    "n_iter = 10\n",
    "\n",
    "with utilities.codeTimer(\"WALS factorisation\"):\n",
    "    train, test = rec.performFactorisation(reg_lambda, n_iter)"
   ]
  },
  {
   "cell_type": "code",
   "execution_count": null,
   "metadata": {},
   "outputs": [],
   "source": [
    "# Plotting results.\n",
    "fig, ax = plt.subplots()\n",
    "x = [i + 1 for i in range(len(test))]\n",
    "ax.plot(x, test)\n",
    "\n",
    "ax.set_title(\"WALS factorisation\")\n",
    "ax.set_ylabel(\"MAE\")\n",
    "#ax.set_ylim(0, 0.9)\n",
    "ax.set_xlabel(\"Iteration\")\n",
    "ax.xaxis.set_major_locator(MaxNLocator(integer = True))\n",
    "\n",
    "plt.savefig(\"WALS_train.pdf\", transparent = True)\n",
    "plt.show()"
   ]
  },
  {
   "cell_type": "code",
   "execution_count": null,
   "metadata": {},
   "outputs": [],
   "source": [
    "# Once the recommender has been trained, it can be saved with the\n",
    "# following line.\n",
    "\n",
    "#utilities.saveRecSys(rec, \"rec.npz\")"
   ]
  },
  {
   "cell_type": "markdown",
   "metadata": {},
   "source": [
    "### Recommendation"
   ]
  },
  {
   "cell_type": "code",
   "execution_count": null,
   "metadata": {},
   "outputs": [],
   "source": [
    "def recommend(rec_system, user_id):\n",
    "    return rec_system.answerQuery(user_id)\n",
    "        \n",
    "def bestRated(rec_system, user_id):\n",
    "    user_movies = rec_system.getUserMovies(user_id)\n",
    "    return user_movies.sort_values(by = \"Rating\", ascending = False)"
   ]
  },
  {
   "cell_type": "code",
   "execution_count": null,
   "metadata": {},
   "outputs": [],
   "source": [
    "user_id = 17\n",
    "recommend(rec, user_id).head(10)"
   ]
  },
  {
   "cell_type": "code",
   "execution_count": null,
   "metadata": {},
   "outputs": [],
   "source": [
    "bestRated(rec, user_id).head(10)"
   ]
  },
  {
   "cell_type": "markdown",
   "metadata": {},
   "source": [
    "### Similar items\n",
    "Some suggestions:\n",
    "* 911: Star Wars Episode VI\n",
    "* 786: Dumbo\n",
    "* 957: The Shining\n",
    "* 474: Blade Runner"
   ]
  },
  {
   "cell_type": "code",
   "execution_count": null,
   "metadata": {},
   "outputs": [],
   "source": [
    "rec.suggestSimilar(957)"
   ]
  },
  {
   "cell_type": "markdown",
   "metadata": {},
   "source": [
    "### New user recommendation"
   ]
  },
  {
   "cell_type": "code",
   "execution_count": null,
   "metadata": {},
   "outputs": [],
   "source": [
    "np.random.seed(17)\n",
    "\n",
    "new_user, new_user_id = rec.generateNewUser(130)\n",
    "np.shape(rec.R)"
   ]
  },
  {
   "cell_type": "code",
   "execution_count": null,
   "metadata": {},
   "outputs": [],
   "source": [
    "new_user_id"
   ]
  },
  {
   "cell_type": "code",
   "execution_count": null,
   "metadata": {},
   "outputs": [],
   "source": [
    "with utilities.codeTimer(\"New user factorisation\"):\n",
    "    rec.addNewUser(new_user, reg_lambda)\n",
    "np.shape(rec.R)"
   ]
  },
  {
   "cell_type": "code",
   "execution_count": null,
   "metadata": {},
   "outputs": [],
   "source": [
    "recommend(rec, new_user_id).head(10)"
   ]
  },
  {
   "cell_type": "code",
   "execution_count": null,
   "metadata": {},
   "outputs": [],
   "source": [
    "bestRated(rec, new_user_id).head(10)"
   ]
  },
  {
   "cell_type": "markdown",
   "metadata": {},
   "source": [
    "### Cold start problem\n",
    "If a new user has rated less than 10 movies, the most popular and unseen movies will be recommended."
   ]
  },
  {
   "cell_type": "code",
   "execution_count": null,
   "metadata": {},
   "outputs": [],
   "source": [
    "np.random.seed(17)\n",
    "\n",
    "new_user, new_user_id = rec.generateNewUser(8)\n",
    "np.shape(rec.R)\n",
    "\n",
    "with utilities.codeTimer(\"New user factorisation\"):\n",
    "    rec.addNewUser(new_user, reg_lambda)"
   ]
  },
  {
   "cell_type": "code",
   "execution_count": null,
   "metadata": {},
   "outputs": [],
   "source": [
    "recommend(rec, new_user_id).head(10)"
   ]
  },
  {
   "cell_type": "code",
   "execution_count": null,
   "metadata": {},
   "outputs": [],
   "source": []
  }
 ],
 "metadata": {
  "kernelspec": {
   "display_name": "Python 3",
   "language": "python",
   "name": "python3"
  },
  "language_info": {
   "codemirror_mode": {
    "name": "ipython",
    "version": 3
   },
   "file_extension": ".py",
   "mimetype": "text/x-python",
   "name": "python",
   "nbconvert_exporter": "python",
   "pygments_lexer": "ipython3",
   "version": "3.7.3"
  }
 },
 "nbformat": 4,
 "nbformat_minor": 4
}
