{
 "cells": [
  {
   "cell_type": "code",
   "execution_count": 1,
   "metadata": {},
   "outputs": [],
   "source": [
    "import numpy as np\n",
    "import pandas as pd"
   ]
  },
  {
   "cell_type": "code",
   "execution_count": 2,
   "metadata": {},
   "outputs": [],
   "source": [
    "import utilities # codeTimer context manager.\n",
    "import data_preparation # Load dataset and build required matrices.\n",
    "import factorisation # WALS factorisation.\n",
    "import recommender # Recommender system."
   ]
  },
  {
   "cell_type": "markdown",
   "metadata": {},
   "source": [
    "## Factorisation"
   ]
  },
  {
   "cell_type": "code",
   "execution_count": 3,
   "metadata": {},
   "outputs": [
    {
     "name": "stdout",
     "output_type": "stream",
     "text": [
      "The dataframe contains 610 users and 2999 items.\n",
      "Prediction error: 1133575640.90861\n"
     ]
    }
   ],
   "source": [
    "np.random.seed(17)\n",
    "\n",
    "mov, rat = data_preparation.importDataset()\n",
    "rec = recommender.recommenderSystem(mov, rat)\n",
    "rec.predictionError()"
   ]
  },
  {
   "cell_type": "code",
   "execution_count": 4,
   "metadata": {},
   "outputs": [
    {
     "name": "stdout",
     "output_type": "stream",
     "text": [
      "Test error: 1893085.9978277823\n",
      "Train error: 1893085.9978277823\n",
      "Test error: 900696.2858679722\n",
      "Train error: 900696.2858679722\n",
      "Test error: 726924.1252320689\n",
      "Train error: 726924.1252320689\n",
      "Test error: 668523.4250739744\n",
      "Train error: 668523.4250739744\n",
      "Executed 'WALS factorisation'.  Elapsed time: 174.159575s\n"
     ]
    }
   ],
   "source": [
    "reg_lambda = 0.1\n",
    "n_iter = 4\n",
    "\n",
    "with utilities.codeTimer(\"WALS factorisation\"):\n",
    "    rec.performFactorisation(reg_lambda, n_iter)"
   ]
  },
  {
   "cell_type": "markdown",
   "metadata": {},
   "source": [
    "## Recommendation"
   ]
  },
  {
   "cell_type": "code",
   "execution_count": 5,
   "metadata": {},
   "outputs": [],
   "source": [
    "def recommend(rec_system, user_id):\n",
    "    return rec_system.answerQuery(user_id)\n",
    "        \n",
    "def bestRated(rec_system, user_id):\n",
    "    user_movies = rec_system.getUserMovies(user_id)\n",
    "    return user_movies.sort_values(by = \"Rating\", ascending = False)"
   ]
  },
  {
   "cell_type": "code",
   "execution_count": 6,
   "metadata": {},
   "outputs": [
    {
     "data": {
      "text/html": [
       "<div>\n",
       "<style scoped>\n",
       "    .dataframe tbody tr th:only-of-type {\n",
       "        vertical-align: middle;\n",
       "    }\n",
       "\n",
       "    .dataframe tbody tr th {\n",
       "        vertical-align: top;\n",
       "    }\n",
       "\n",
       "    .dataframe thead th {\n",
       "        text-align: right;\n",
       "    }\n",
       "</style>\n",
       "<table border=\"1\" class=\"dataframe\">\n",
       "  <thead>\n",
       "    <tr style=\"text-align: right;\">\n",
       "      <th></th>\n",
       "      <th>MovieID</th>\n",
       "      <th>Prediction</th>\n",
       "      <th>Title</th>\n",
       "      <th>Genres</th>\n",
       "      <th>AVG_Rating</th>\n",
       "    </tr>\n",
       "  </thead>\n",
       "  <tbody>\n",
       "    <tr>\n",
       "      <th>0</th>\n",
       "      <td>418</td>\n",
       "      <td>3.33</td>\n",
       "      <td>Jurassic Park (1993)</td>\n",
       "      <td>Action|Adventure|Sci-Fi|Thriller</td>\n",
       "      <td>3.750000</td>\n",
       "    </tr>\n",
       "    <tr>\n",
       "      <th>1</th>\n",
       "      <td>234</td>\n",
       "      <td>3.10</td>\n",
       "      <td>Madness of King George, The (1994)</td>\n",
       "      <td>Comedy|Drama</td>\n",
       "      <td>3.758065</td>\n",
       "    </tr>\n",
       "    <tr>\n",
       "      <th>2</th>\n",
       "      <td>551</td>\n",
       "      <td>3.03</td>\n",
       "      <td>James and the Giant Peach (1996)</td>\n",
       "      <td>Adventure|Animation|Children|Fantasy|Musical</td>\n",
       "      <td>3.448980</td>\n",
       "    </tr>\n",
       "    <tr>\n",
       "      <th>3</th>\n",
       "      <td>192</td>\n",
       "      <td>2.83</td>\n",
       "      <td>Disclosure (1994)</td>\n",
       "      <td>Drama|Thriller</td>\n",
       "      <td>3.538462</td>\n",
       "    </tr>\n",
       "    <tr>\n",
       "      <th>4</th>\n",
       "      <td>334</td>\n",
       "      <td>2.60</td>\n",
       "      <td>Speed (1994)</td>\n",
       "      <td>Action|Romance|Thriller</td>\n",
       "      <td>3.529240</td>\n",
       "    </tr>\n",
       "    <tr>\n",
       "      <th>5</th>\n",
       "      <td>785</td>\n",
       "      <td>2.53</td>\n",
       "      <td>Mary Poppins (1964)</td>\n",
       "      <td>Children|Comedy|Fantasy|Musical</td>\n",
       "      <td>3.887324</td>\n",
       "    </tr>\n",
       "    <tr>\n",
       "      <th>6</th>\n",
       "      <td>16</td>\n",
       "      <td>2.51</td>\n",
       "      <td>Sense and Sensibility (1995)</td>\n",
       "      <td>Drama|Romance</td>\n",
       "      <td>3.776119</td>\n",
       "    </tr>\n",
       "    <tr>\n",
       "      <th>7</th>\n",
       "      <td>31</td>\n",
       "      <td>2.51</td>\n",
       "      <td>Twelve Monkeys (a.k.a. 12 Monkeys) (1995)</td>\n",
       "      <td>Mystery|Sci-Fi|Thriller</td>\n",
       "      <td>3.983051</td>\n",
       "    </tr>\n",
       "    <tr>\n",
       "      <th>8</th>\n",
       "      <td>505</td>\n",
       "      <td>2.43</td>\n",
       "      <td>Ghost (1990)</td>\n",
       "      <td>Comedy|Drama|Fantasy|Romance|Thriller</td>\n",
       "      <td>3.434783</td>\n",
       "    </tr>\n",
       "    <tr>\n",
       "      <th>9</th>\n",
       "      <td>287</td>\n",
       "      <td>2.40</td>\n",
       "      <td>Star Trek: Generations (1994)</td>\n",
       "      <td>Adventure|Drama|Sci-Fi</td>\n",
       "      <td>3.393519</td>\n",
       "    </tr>\n",
       "  </tbody>\n",
       "</table>\n",
       "</div>"
      ],
      "text/plain": [
       "   MovieID  Prediction                                      Title  \\\n",
       "0      418        3.33                       Jurassic Park (1993)   \n",
       "1      234        3.10         Madness of King George, The (1994)   \n",
       "2      551        3.03           James and the Giant Peach (1996)   \n",
       "3      192        2.83                          Disclosure (1994)   \n",
       "4      334        2.60                               Speed (1994)   \n",
       "5      785        2.53                        Mary Poppins (1964)   \n",
       "6       16        2.51               Sense and Sensibility (1995)   \n",
       "7       31        2.51  Twelve Monkeys (a.k.a. 12 Monkeys) (1995)   \n",
       "8      505        2.43                               Ghost (1990)   \n",
       "9      287        2.40              Star Trek: Generations (1994)   \n",
       "\n",
       "                                         Genres  AVG_Rating  \n",
       "0              Action|Adventure|Sci-Fi|Thriller    3.750000  \n",
       "1                                  Comedy|Drama    3.758065  \n",
       "2  Adventure|Animation|Children|Fantasy|Musical    3.448980  \n",
       "3                                Drama|Thriller    3.538462  \n",
       "4                       Action|Romance|Thriller    3.529240  \n",
       "5               Children|Comedy|Fantasy|Musical    3.887324  \n",
       "6                                 Drama|Romance    3.776119  \n",
       "7                       Mystery|Sci-Fi|Thriller    3.983051  \n",
       "8         Comedy|Drama|Fantasy|Romance|Thriller    3.434783  \n",
       "9                        Adventure|Drama|Sci-Fi    3.393519  "
      ]
     },
     "execution_count": 6,
     "metadata": {},
     "output_type": "execute_result"
    }
   ],
   "source": [
    "user_id = 4\n",
    "recommend(rec, user_id).head(10)"
   ]
  },
  {
   "cell_type": "code",
   "execution_count": 7,
   "metadata": {},
   "outputs": [
    {
     "data": {
      "text/html": [
       "<div>\n",
       "<style scoped>\n",
       "    .dataframe tbody tr th:only-of-type {\n",
       "        vertical-align: middle;\n",
       "    }\n",
       "\n",
       "    .dataframe tbody tr th {\n",
       "        vertical-align: top;\n",
       "    }\n",
       "\n",
       "    .dataframe thead th {\n",
       "        text-align: right;\n",
       "    }\n",
       "</style>\n",
       "<table border=\"1\" class=\"dataframe\">\n",
       "  <thead>\n",
       "    <tr style=\"text-align: right;\">\n",
       "      <th></th>\n",
       "      <th>MovieID</th>\n",
       "      <th>UserID</th>\n",
       "      <th>Genres</th>\n",
       "      <th>Title</th>\n",
       "      <th>Rating</th>\n",
       "    </tr>\n",
       "  </thead>\n",
       "  <tbody>\n",
       "    <tr>\n",
       "      <th>15876</th>\n",
       "      <td>508</td>\n",
       "      <td>4</td>\n",
       "      <td>Adventure|Drama|Western</td>\n",
       "      <td>Dances with Wolves (1990)</td>\n",
       "      <td>5.0</td>\n",
       "    </tr>\n",
       "    <tr>\n",
       "      <th>13038</th>\n",
       "      <td>413</td>\n",
       "      <td>4</td>\n",
       "      <td>Drama</td>\n",
       "      <td>In the Name of the Father (1993)</td>\n",
       "      <td>5.0</td>\n",
       "    </tr>\n",
       "    <tr>\n",
       "      <th>14108</th>\n",
       "      <td>461</td>\n",
       "      <td>4</td>\n",
       "      <td>Drama|War</td>\n",
       "      <td>Schindler's List (1993)</td>\n",
       "      <td>5.0</td>\n",
       "    </tr>\n",
       "    <tr>\n",
       "      <th>2626</th>\n",
       "      <td>52</td>\n",
       "      <td>4</td>\n",
       "      <td>Comedy|Drama|Romance</td>\n",
       "      <td>Postman, The (Postino, Il) (1994)</td>\n",
       "      <td>5.0</td>\n",
       "    </tr>\n",
       "    <tr>\n",
       "      <th>16731</th>\n",
       "      <td>513</td>\n",
       "      <td>4</td>\n",
       "      <td>Animation|Children|Fantasy|Musical</td>\n",
       "      <td>Pinocchio (1940)</td>\n",
       "      <td>5.0</td>\n",
       "    </tr>\n",
       "    <tr>\n",
       "      <th>16585</th>\n",
       "      <td>512</td>\n",
       "      <td>4</td>\n",
       "      <td>Animation|Children|Fantasy|Musical|Romance|IMAX</td>\n",
       "      <td>Beauty and the Beast (1991)</td>\n",
       "      <td>5.0</td>\n",
       "    </tr>\n",
       "    <tr>\n",
       "      <th>6565</th>\n",
       "      <td>211</td>\n",
       "      <td>4</td>\n",
       "      <td>Crime|Drama</td>\n",
       "      <td>Heavenly Creatures (1994)</td>\n",
       "      <td>5.0</td>\n",
       "    </tr>\n",
       "    <tr>\n",
       "      <th>16507</th>\n",
       "      <td>511</td>\n",
       "      <td>4</td>\n",
       "      <td>Animation|Children|Drama|Fantasy|Musical</td>\n",
       "      <td>Snow White and the Seven Dwarfs (1937)</td>\n",
       "      <td>5.0</td>\n",
       "    </tr>\n",
       "    <tr>\n",
       "      <th>7862</th>\n",
       "      <td>257</td>\n",
       "      <td>4</td>\n",
       "      <td>Comedy|Crime|Drama|Thriller</td>\n",
       "      <td>Pulp Fiction (1994)</td>\n",
       "      <td>5.0</td>\n",
       "    </tr>\n",
       "    <tr>\n",
       "      <th>7606</th>\n",
       "      <td>251</td>\n",
       "      <td>4</td>\n",
       "      <td>Crime|Drama</td>\n",
       "      <td>Once Were Warriors (1994)</td>\n",
       "      <td>5.0</td>\n",
       "    </tr>\n",
       "  </tbody>\n",
       "</table>\n",
       "</div>"
      ],
      "text/plain": [
       "       MovieID  UserID                                           Genres  \\\n",
       "15876      508       4                          Adventure|Drama|Western   \n",
       "13038      413       4                                            Drama   \n",
       "14108      461       4                                        Drama|War   \n",
       "2626        52       4                             Comedy|Drama|Romance   \n",
       "16731      513       4               Animation|Children|Fantasy|Musical   \n",
       "16585      512       4  Animation|Children|Fantasy|Musical|Romance|IMAX   \n",
       "6565       211       4                                      Crime|Drama   \n",
       "16507      511       4         Animation|Children|Drama|Fantasy|Musical   \n",
       "7862       257       4                      Comedy|Crime|Drama|Thriller   \n",
       "7606       251       4                                      Crime|Drama   \n",
       "\n",
       "                                        Title  Rating  \n",
       "15876               Dances with Wolves (1990)     5.0  \n",
       "13038        In the Name of the Father (1993)     5.0  \n",
       "14108                 Schindler's List (1993)     5.0  \n",
       "2626        Postman, The (Postino, Il) (1994)     5.0  \n",
       "16731                        Pinocchio (1940)     5.0  \n",
       "16585             Beauty and the Beast (1991)     5.0  \n",
       "6565                Heavenly Creatures (1994)     5.0  \n",
       "16507  Snow White and the Seven Dwarfs (1937)     5.0  \n",
       "7862                      Pulp Fiction (1994)     5.0  \n",
       "7606                Once Were Warriors (1994)     5.0  "
      ]
     },
     "execution_count": 7,
     "metadata": {},
     "output_type": "execute_result"
    }
   ],
   "source": [
    "bestRated(rec, user_id).head(10)"
   ]
  },
  {
   "cell_type": "markdown",
   "metadata": {},
   "source": [
    "## TBD: test recommandation"
   ]
  },
  {
   "cell_type": "markdown",
   "metadata": {},
   "source": [
    "## Similar items"
   ]
  },
  {
   "cell_type": "code",
   "execution_count": 8,
   "metadata": {},
   "outputs": [
    {
     "data": {
      "text/html": [
       "<div>\n",
       "<style scoped>\n",
       "    .dataframe tbody tr th:only-of-type {\n",
       "        vertical-align: middle;\n",
       "    }\n",
       "\n",
       "    .dataframe tbody tr th {\n",
       "        vertical-align: top;\n",
       "    }\n",
       "\n",
       "    .dataframe thead th {\n",
       "        text-align: right;\n",
       "    }\n",
       "</style>\n",
       "<table border=\"1\" class=\"dataframe\">\n",
       "  <thead>\n",
       "    <tr style=\"text-align: right;\">\n",
       "      <th></th>\n",
       "      <th>MovieID</th>\n",
       "      <th>Title</th>\n",
       "      <th>Genres</th>\n",
       "      <th>Similarity</th>\n",
       "    </tr>\n",
       "  </thead>\n",
       "  <tbody>\n",
       "    <tr>\n",
       "      <th>474</th>\n",
       "      <td>474</td>\n",
       "      <td>Blade Runner (1982)</td>\n",
       "      <td>Action|Sci-Fi|Thriller</td>\n",
       "      <td>1.000000</td>\n",
       "    </tr>\n",
       "    <tr>\n",
       "      <th>706</th>\n",
       "      <td>706</td>\n",
       "      <td>2001: A Space Odyssey (1968)</td>\n",
       "      <td>Adventure|Drama|Sci-Fi</td>\n",
       "      <td>0.652995</td>\n",
       "    </tr>\n",
       "    <tr>\n",
       "      <th>896</th>\n",
       "      <td>896</td>\n",
       "      <td>One Flew Over the Cuckoo's Nest (1975)</td>\n",
       "      <td>Drama</td>\n",
       "      <td>0.630796</td>\n",
       "    </tr>\n",
       "    <tr>\n",
       "      <th>969</th>\n",
       "      <td>969</td>\n",
       "      <td>Back to the Future (1985)</td>\n",
       "      <td>Adventure|Comedy|Sci-Fi</td>\n",
       "      <td>0.628644</td>\n",
       "    </tr>\n",
       "    <tr>\n",
       "      <th>915</th>\n",
       "      <td>915</td>\n",
       "      <td>Alien (1979)</td>\n",
       "      <td>Horror|Sci-Fi</td>\n",
       "      <td>0.625188</td>\n",
       "    </tr>\n",
       "    <tr>\n",
       "      <th>863</th>\n",
       "      <td>863</td>\n",
       "      <td>Monty Python and the Holy Grail (1975)</td>\n",
       "      <td>Adventure|Comedy|Fantasy</td>\n",
       "      <td>0.603547</td>\n",
       "    </tr>\n",
       "    <tr>\n",
       "      <th>900</th>\n",
       "      <td>900</td>\n",
       "      <td>Raiders of the Lost Ark (Indiana Jones and the...</td>\n",
       "      <td>Action|Adventure</td>\n",
       "      <td>0.603292</td>\n",
       "    </tr>\n",
       "    <tr>\n",
       "      <th>939</th>\n",
       "      <td>939</td>\n",
       "      <td>Terminator, The (1984)</td>\n",
       "      <td>Action|Sci-Fi|Thriller</td>\n",
       "      <td>0.592732</td>\n",
       "    </tr>\n",
       "    <tr>\n",
       "      <th>902</th>\n",
       "      <td>902</td>\n",
       "      <td>Aliens (1986)</td>\n",
       "      <td>Action|Adventure|Horror|Sci-Fi</td>\n",
       "      <td>0.570372</td>\n",
       "    </tr>\n",
       "    <tr>\n",
       "      <th>973</th>\n",
       "      <td>973</td>\n",
       "      <td>Akira (1988)</td>\n",
       "      <td>Action|Adventure|Animation|Sci-Fi</td>\n",
       "      <td>0.568143</td>\n",
       "    </tr>\n",
       "  </tbody>\n",
       "</table>\n",
       "</div>"
      ],
      "text/plain": [
       "     MovieID                                              Title  \\\n",
       "474      474                                Blade Runner (1982)   \n",
       "706      706                       2001: A Space Odyssey (1968)   \n",
       "896      896             One Flew Over the Cuckoo's Nest (1975)   \n",
       "969      969                          Back to the Future (1985)   \n",
       "915      915                                       Alien (1979)   \n",
       "863      863             Monty Python and the Holy Grail (1975)   \n",
       "900      900  Raiders of the Lost Ark (Indiana Jones and the...   \n",
       "939      939                             Terminator, The (1984)   \n",
       "902      902                                      Aliens (1986)   \n",
       "973      973                                       Akira (1988)   \n",
       "\n",
       "                                Genres  Similarity  \n",
       "474             Action|Sci-Fi|Thriller    1.000000  \n",
       "706             Adventure|Drama|Sci-Fi    0.652995  \n",
       "896                              Drama    0.630796  \n",
       "969            Adventure|Comedy|Sci-Fi    0.628644  \n",
       "915                      Horror|Sci-Fi    0.625188  \n",
       "863           Adventure|Comedy|Fantasy    0.603547  \n",
       "900                   Action|Adventure    0.603292  \n",
       "939             Action|Sci-Fi|Thriller    0.592732  \n",
       "902     Action|Adventure|Horror|Sci-Fi    0.570372  \n",
       "973  Action|Adventure|Animation|Sci-Fi    0.568143  "
      ]
     },
     "execution_count": 8,
     "metadata": {},
     "output_type": "execute_result"
    }
   ],
   "source": [
    "# Some suggestions:\n",
    "#\n",
    "# 911: Star Wars Episode VI\n",
    "# 786: Dumbo\n",
    "# 957: The Shining\n",
    "# 474: Blade Runner\n",
    "\n",
    "rec.suggestSimilar(474)"
   ]
  },
  {
   "cell_type": "markdown",
   "metadata": {},
   "source": [
    "# OLD CODE, TO BE REFACTORED"
   ]
  },
  {
   "cell_type": "markdown",
   "metadata": {},
   "source": [
    "## Test recom"
   ]
  },
  {
   "cell_type": "markdown",
   "metadata": {},
   "source": [
    "In the _ml-latest-small_ dataset `MovieId`s do not increase continuously. Even if less than 10000 movies are present, the index goes up to ~19000. In order to fix this unconvenience and make the dataframe indexing more intuitive, a more appropriate index has been built. If necessary, a reverse conversion to the original one could be achieved by storing a two column conversion dataframe."
   ]
  },
  {
   "cell_type": "code",
   "execution_count": null,
   "metadata": {
    "scrolled": true
   },
   "outputs": [],
   "source": [
    "# Build R matrix and dividing training/test sets.\n",
    "\n",
    "from scipy.sparse import coo_matrix\n",
    "\n",
    "np.random.seed(17)\n",
    "\n",
    "# Dividing training and test set.\n",
    "\n",
    "# Test set percentage.\n",
    "p_test = 0.2\n",
    "\n",
    "# Random boolean, TRUE for test set.\n",
    "mask = np.random.choice(a = [False, True], size = R.size,\n",
    "                        p = [p_test, 1 - p_test]).reshape(R.shape)\n",
    "\n",
    "R_test = np.zeros(R.shape)\n",
    "R_test[mask] = R[mask]\n",
    "\n",
    "R_train = np.zeros(R.shape)\n",
    "R_train[np.invert(mask)] = R[np.invert(mask)]\n",
    "\n",
    "# Are the R_test and R_train matrices correctly built?\n",
    "print(\"R_test and R_train are correctly built: {}\"\n",
    "      .format(np.array_equal(R, R_test + R_train)))"
   ]
  },
  {
   "cell_type": "code",
   "execution_count": null,
   "metadata": {},
   "outputs": [],
   "source": [
    "# Compares recommendation on test set with actual ratings.\n",
    "\n",
    "def recommendTest(user_id, R_test, predicted_ratings):\n",
    "    \"\"\"\n",
    "    TBD\n",
    "    \"\"\"\n",
    "    pred = np.around(predicted_ratings, 2)[user_id]\n",
    "    # Unseen movies (test set ones)\n",
    "    idx = np.where(R_test[user_id] != 0)[0]\n",
    "    # idx = np.where(R[user] == 0)[0]\n",
    "    movie_pred = list(zip(idx, pred[idx]))\n",
    "    recom_df = pd.DataFrame(movie_pred, columns = ['MovieID', 'Prediction'])\n",
    "\n",
    "    recom_df = pd.merge(recom_df, R_df, on = \"MovieID\", how = \"inner\")\n",
    "    recom_df = recom_df[(recom_df.UserID == user_id)]\n",
    "    recom_df = recom_df.sort_values(by = 'Prediction', ascending = False)\n",
    "    \n",
    "    return recom_df"
   ]
  },
  {
   "cell_type": "code",
   "execution_count": null,
   "metadata": {},
   "outputs": [],
   "source": [
    "#user_id = 6\n",
    "#recommendTest(user_id, R_test, predicted_ratings).head(10)"
   ]
  },
  {
   "cell_type": "markdown",
   "metadata": {},
   "source": [
    "## Suggesting similar items"
   ]
  },
  {
   "cell_type": "markdown",
   "metadata": {},
   "source": [
    "## Recommendation for a new user"
   ]
  },
  {
   "cell_type": "code",
   "execution_count": null,
   "metadata": {},
   "outputs": [],
   "source": [
    "from random import sample, choice\n",
    "\n",
    "def generateNewUser(R, n_movies):\n",
    "    new_user = []\n",
    "    dim = np.shape(R)[1]\n",
    "    \n",
    "    new_user = np.zeros(dim)\n",
    "    new_user_id = len(R)\n",
    "    \n",
    "    # Get indices of watched movies.\n",
    "    obs = sample(range(dim), n_movies)\n",
    "    avail_ratings = [0.5, 1.0, 1.5, 2.0, 2.5, 3.0, 3.5, 4.0, 4.5, 5.0]\n",
    "    for i in obs:\n",
    "        new_user[i] = choice(avail_ratings)\n",
    "        \n",
    "    return new_user, new_user_id\n",
    "\n",
    "\n",
    "def updateMatrices(new_user, R, C, X):\n",
    "    # Adding new user to R matrix.\n",
    "    R = np.vstack((R, new_user))\n",
    "    C = buildWeightMatrix(R, alpha = 10)\n",
    "    X = np.vstack((X, np.random.rand(np.shape(X)[1])))\n",
    "    \n",
    "    return R, C, X\n",
    "\n",
    "\n",
    "def updateDataFrame(R_df, new_user):    \n",
    "    new_df = pd.DataFrame(new_user, columns=[\"Rating\"])\n",
    "    new_df[\"MovieID\"] = range(0, len(new_user))\n",
    "    new_df[\"UserID\"] = R_df[\"UserID\"].max() + 1\n",
    "    new_df = new_df[new_df[\"Rating\"] != 0]\n",
    "    new_df = pd.merge(new_df, movies_df, on = \"MovieID\", how = \"inner\")\n",
    "    new_df = new_df[['MovieID', 'UserID', 'Genres', 'Title', 'Rating']]\n",
    "    \n",
    "    R_df = R_df.append(new_df, ignore_index = True).sort_values(by = [\"MovieID\", \"UserID\"])\n",
    "    \n",
    "    return R_df"
   ]
  },
  {
   "cell_type": "code",
   "execution_count": null,
   "metadata": {},
   "outputs": [],
   "source": [
    "def newUserSinglePassWALS(new_user, R, C, X, Y, reg_lambda):\n",
    "    \n",
    "    \n",
    "    # Updating R, C and X matrices.\n",
    "    R = np.vstack((R, new_user))\n",
    "    \n",
    "    M = np.shape(X)[0]\n",
    "    K = np.shape(X)[1]    \n",
    "    \n",
    "    # Perform user matrix optimisation.\n",
    "    for u in range(1, M):\n",
    "        Cu = np.diag(C[u, :])\n",
    "        # A X_u = b\n",
    "        A = multi_dot([Y.T, Cu, Y]) + reg_lambda * np.eye(K)\n",
    "        b = multi_dot([Y.T, Cu, R[u, :]])\n",
    "        X_u = np.linalg.solve(A, b)\n",
    "        \n",
    "        X[u,] = X_u"
   ]
  },
  {
   "cell_type": "code",
   "execution_count": null,
   "metadata": {},
   "outputs": [],
   "source": [
    "# Creating new user and updating both matrices and the R_df dataframe.\n",
    "\n",
    "np.random.seed(17)\n",
    "\n",
    "new_user, new_user_id = generateNewUser(R, 130)\n",
    "\n",
    "R, C, X = updateMatrices(new_user, R, C, X)\n",
    "R_df = updateDataFrame(R_df, new_user)\n",
    "\n",
    "with codeTimer(\"New user recomputation\"):\n",
    "    newUserSinglePassWALS(new_user, R, C, X, Y, reg_lambda)"
   ]
  },
  {
   "cell_type": "code",
   "execution_count": null,
   "metadata": {},
   "outputs": [],
   "source": [
    "R"
   ]
  },
  {
   "cell_type": "code",
   "execution_count": null,
   "metadata": {},
   "outputs": [],
   "source": [
    "predicted_ratings = predict(X, Y)\n",
    "recommendNew(new_user_id, R, predicted_ratings).head(10)"
   ]
  },
  {
   "cell_type": "code",
   "execution_count": null,
   "metadata": {},
   "outputs": [],
   "source": [
    "R_df[R_df['UserID'] == new_user_id].sort_values(by = 'Rating', ascending = False).head(15)"
   ]
  },
  {
   "cell_type": "markdown",
   "metadata": {},
   "source": [
    "## Cold start problem"
   ]
  },
  {
   "cell_type": "code",
   "execution_count": null,
   "metadata": {},
   "outputs": [],
   "source": [
    "#test = R\n",
    "R"
   ]
  },
  {
   "cell_type": "code",
   "execution_count": null,
   "metadata": {},
   "outputs": [],
   "source": [
    "np.shape(new_user)"
   ]
  },
  {
   "cell_type": "code",
   "execution_count": null,
   "metadata": {},
   "outputs": [],
   "source": [
    "np.insert(test, new_user, axis = 0)"
   ]
  },
  {
   "cell_type": "code",
   "execution_count": null,
   "metadata": {},
   "outputs": [],
   "source": [
    "R = np.vstack((R, new_user))"
   ]
  },
  {
   "cell_type": "code",
   "execution_count": null,
   "metadata": {},
   "outputs": [],
   "source": [
    "plt.plot(new_user)"
   ]
  },
  {
   "cell_type": "code",
   "execution_count": null,
   "metadata": {},
   "outputs": [],
   "source": [
    "import matplotlib.pyplot as plt"
   ]
  },
  {
   "cell_type": "markdown",
   "metadata": {},
   "source": [
    "## Classify test commit."
   ]
  },
  {
   "cell_type": "code",
   "execution_count": null,
   "metadata": {},
   "outputs": [],
   "source": [
    "class RecommenderSystem:\n",
    "    def __init__(self, )"
   ]
  },
  {
   "cell_type": "code",
   "execution_count": null,
   "metadata": {},
   "outputs": [],
   "source": [
    "def recommend(rec_system, user_id):\n",
    "    recom_df = rec_system.answer_query(user_id)\n",
    "    with pd.option_context('display.max_rows', 10,\n",
    "                           'display.max_columns', None):  \n",
    "        print(df)"
   ]
  },
  {
   "cell_type": "code",
   "execution_count": null,
   "metadata": {},
   "outputs": [],
   "source": []
  }
 ],
 "metadata": {
  "kernelspec": {
   "display_name": "Python 3",
   "language": "python",
   "name": "python3"
  },
  "language_info": {
   "codemirror_mode": {
    "name": "ipython",
    "version": 3
   },
   "file_extension": ".py",
   "mimetype": "text/x-python",
   "name": "python",
   "nbconvert_exporter": "python",
   "pygments_lexer": "ipython3",
   "version": "3.7.3"
  }
 },
 "nbformat": 4,
 "nbformat_minor": 4
}
