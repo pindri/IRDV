{
 "cells": [
  {
   "cell_type": "code",
   "execution_count": 236,
   "metadata": {},
   "outputs": [],
   "source": [
    "import numpy as np\n",
    "from numpy.linalg import multi_dot\n",
    "\n",
    "import csv\n",
    "\n",
    "import pandas as pd\n",
    "\n",
    "from pathlib import Path"
   ]
  },
  {
   "cell_type": "code",
   "execution_count": 237,
   "metadata": {},
   "outputs": [],
   "source": [
    "# Reading dataset.\n",
    "\n",
    "__file__ = 'recommender.ipynb'\n",
    "base_path = Path(__file__).parent\n",
    "\n",
    "file_path = (base_path / '../ml-latest-small/ratings.csv').resolve()\n",
    "with open(file_path) as f:\n",
    "    ratings = [line for line in csv.reader(f)]\n",
    "    \n",
    "file_path = (base_path / '../ml-latest-small/movies.csv').resolve()\n",
    "with open(file_path) as f:\n",
    "    movies = [line for line in csv.reader(f)]"
   ]
  },
  {
   "cell_type": "code",
   "execution_count": 238,
   "metadata": {
    "scrolled": false
   },
   "outputs": [
    {
     "data": {
      "text/plain": [
       "MovieID      int64\n",
       "UserID       int64\n",
       "Genres      object\n",
       "Title       object\n",
       "Rating     float64\n",
       "dtype: object"
      ]
     },
     "execution_count": 238,
     "metadata": {},
     "output_type": "execute_result"
    }
   ],
   "source": [
    "# Building dataframes from dataset.\n",
    "\n",
    "ratings_df = pd.DataFrame(ratings,columns = ['UserID', 'MovieID', 'Rating', 'Timestamp']).iloc[1:1000]\n",
    "movies_df = pd.DataFrame(movies, columns = ['MovieID', 'Title', 'Genres']).iloc[1:200]\n",
    "\n",
    "# Merging and cleaning.\n",
    "R_df = pd.merge(ratings_df, movies_df, on = \"MovieID\", how = \"inner\")\n",
    "R_df = R_df.drop(columns = ['Timestamp'] , axis = 1)\n",
    "\n",
    "# Type conversion.\n",
    "R_df[['UserID', 'MovieID']] = R_df[['UserID', 'MovieID']].astype(int) - 1 # Takes care of 0 index.\n",
    "R_df[['Rating']] = R_df[['Rating']].astype(float)\n",
    "R_df[['Title', 'Genres']] = R_df[['Title', 'Genres']].astype(str)\n",
    "\n",
    "R_df = pd.pivot_table(R_df, index = ['MovieID', 'UserID', 'Genres', 'Title'])\n",
    "R_df = pd.DataFrame(R_df.to_records())\n",
    "\n",
    "\n",
    "# Compute the number of distinct movies.\n",
    "mvd = R_df[['MovieID']].to_numpy().flatten()\n",
    "\n",
    "\n",
    "# Rewrite movie indices. UGLY, NEEDS TO BE REWRITTEN!\n",
    "j = -1\n",
    "new = []\n",
    "for i in range(0, len(mvd)):\n",
    "    if (mvd[i] != mvd[i-1]):\n",
    "        j = j+1\n",
    "    new.append(j)\n",
    "    \n",
    "mvd = np.array(new)\n",
    "\n",
    "# Assign new indices to dataframe.\n",
    "R_df = R_df.assign(MovieID = mvd)\n",
    "R_df.dtypes"
   ]
  },
  {
   "cell_type": "code",
   "execution_count": 241,
   "metadata": {
    "scrolled": true
   },
   "outputs": [],
   "source": [
    "# Build R matrix in a VERY UGLY WAY.\n",
    "\n",
    "from scipy.sparse import coo_matrix, csr_matrix\n",
    "import ast\n",
    "\n",
    "R_users = R_df[\"UserID\"].to_numpy().flatten()\n",
    "R_movies = R_df[\"MovieID\"].to_numpy().flatten()\n",
    "R_ratings = R_df[\"Rating\"].to_numpy().flatten()\n",
    "\n",
    "R = csr_matrix((R_ratings, (R_users, R_movies)))  # csr_matrix((dat, (row, col)))\n",
    "R = R.toarray()\n",
    "#np.shape(R) # SOMETHING WRONG WITH DIMENSION, TOO MANY MOVIES"
   ]
  },
  {
   "cell_type": "code",
   "execution_count": 24,
   "metadata": {},
   "outputs": [],
   "source": [
    "# Building random data matrix R and obtain coefficient matrix C.\n",
    "\n",
    "#M = 10\n",
    "M = np.shape(R)[0]\n",
    "#N = 20\n",
    "M = np.shape(R)[1]\n",
    "\n",
    "# Obserbed and unobserbed weights.\n",
    "wk = 0.7\n",
    "w0 = 0.5\n",
    "\n",
    "#R = np.random.choice([0, 1], size = (M, N), p = [3./5, 2./5])\n",
    "\n",
    "c = [ sum(R[:, i]) for i in range(0, np.shape(R)[1]) ]\n",
    "C = R * c * wk + w0"
   ]
  },
  {
   "cell_type": "code",
   "execution_count": 25,
   "metadata": {},
   "outputs": [
    {
     "data": {
      "text/plain": [
       "array([[2.36090e+03, 5.00000e-01, 4.75100e+02, ..., 5.00000e-01,\n",
       "        5.00000e-01, 5.00000e-01],\n",
       "       [5.00000e-01, 5.00000e-01, 5.00000e-01, ..., 5.00000e-01,\n",
       "        5.00000e-01, 5.00000e-01],\n",
       "       [5.00000e-01, 5.00000e-01, 5.00000e-01, ..., 5.00000e-01,\n",
       "        5.00000e-01, 5.00000e-01],\n",
       "       ...,\n",
       "       [1.47575e+03, 5.29000e+02, 2.37800e+02, ..., 5.00000e-01,\n",
       "        5.00000e-01, 5.00000e-01],\n",
       "       [1.77080e+03, 5.00000e-01, 5.00000e-01, ..., 5.00000e-01,\n",
       "        5.00000e-01, 5.00000e-01],\n",
       "       [2.95100e+03, 5.00000e-01, 5.00000e-01, ..., 5.00000e-01,\n",
       "        5.00000e-01, 5.00000e-01]])"
      ]
     },
     "execution_count": 25,
     "metadata": {},
     "output_type": "execute_result"
    }
   ],
   "source": [
    "C"
   ]
  },
  {
   "cell_type": "code",
   "execution_count": null,
   "metadata": {},
   "outputs": [],
   "source": [
    "# Building random X and Y matrices of proper dimension.\n",
    "\n",
    "#K = 5\n",
    "K = 100\n",
    "\n",
    "X = np.random.rand(M, K)\n",
    "Y = np.random.rand(N, K)"
   ]
  },
  {
   "cell_type": "code",
   "execution_count": null,
   "metadata": {},
   "outputs": [],
   "source": [
    "# Define functions to compute approximated ratings and error.\n",
    "\n",
    "def approximation(X, Y):\n",
    "    return np.dot(X, Y.T)\n",
    "\n",
    "def error(approxRatings, ratings, w0):\n",
    "    obs_idx = np.where(ratings > 0)\n",
    "    nobs_idx = np.where(ratings == 0)\n",
    "    obs_error = sum( (ratings[obs_idx] - approxRatings[obs_idx]) ** 2 )\n",
    "    nobs_error = sum( (ratings[nobs_idx] - approxRatings[nobs_idx]) ** 2 )\n",
    "    return obs_error + w0 * nobs_error"
   ]
  },
  {
   "cell_type": "code",
   "execution_count": null,
   "metadata": {},
   "outputs": [],
   "source": [
    "# Testing functions.\n",
    "\n",
    "approx_ratings = approximation(X, Y)\n",
    "w0 = 0.5\n",
    "error(approx_ratings, R, w0)"
   ]
  },
  {
   "cell_type": "code",
   "execution_count": null,
   "metadata": {},
   "outputs": [],
   "source": [
    "def singlePassWALS(R, X, Y, C, reg_lambda):\n",
    "    M = np.shape(X)[0]\n",
    "    K = np.shape(X)[1]\n",
    "    N = np.shape(Y)[0]\n",
    "\n",
    "    for u in range(1, M):\n",
    "        Cu = np.diag(C[u, :])\n",
    "        # A X_u = b\n",
    "        A = multi_dot([Y.T, Cu, Y]) + reg_lambda * np.eye(K)\n",
    "        b = multi_dot([Y.T, Cu, R[u, :]])\n",
    "        X_u = np.linalg.solve(A, b)\n",
    "        \n",
    "        X[u,] = X_u\n",
    "        \n",
    "    for i in range(1, N):\n",
    "        Ci = np.diag(C[:,i])\n",
    "        # A Y_i = b\n",
    "        A = multi_dot([X.T, Ci, X]) + reg_lambda * np.eye(K)\n",
    "        b = multi_dot([X.T, Ci, R[:, i]])\n",
    "        Y_i = np.linalg.solve(A, b)\n",
    "        \n",
    "        Y[i,] = Y_i    \n",
    "    "
   ]
  },
  {
   "cell_type": "code",
   "execution_count": null,
   "metadata": {},
   "outputs": [],
   "source": [
    "def WALS(R, X, Y, C, reg_lambda, n_iter):\n",
    "    for j in range(1, n_iter):\n",
    "        singlePassWALS(R, X, Y, C, reg_lambda)\n",
    "        approx_ratings = approximation(X, Y)\n",
    "        w0 = 0.5\n",
    "        print(\"Error: \" + str(error(approx_ratings, R, w0)))\n",
    "        "
   ]
  },
  {
   "cell_type": "code",
   "execution_count": null,
   "metadata": {},
   "outputs": [],
   "source": [
    "# Compute WALS.\n",
    "\n",
    "reg_lambda = 0.2\n",
    "n_iter = 10\n",
    "\n",
    "\n",
    "WALS(R, X, Y, C, reg_lambda, n_iter)\n",
    "\n",
    "final_result = approximation(X, Y)"
   ]
  },
  {
   "cell_type": "code",
   "execution_count": null,
   "metadata": {},
   "outputs": [],
   "source": [
    "T = np.matrix.round(final_result, 1)[4]"
   ]
  },
  {
   "cell_type": "code",
   "execution_count": null,
   "metadata": {},
   "outputs": [],
   "source": [
    "Test = np.array([R[4], T])"
   ]
  },
  {
   "cell_type": "code",
   "execution_count": null,
   "metadata": {},
   "outputs": [],
   "source": [
    "print(Test)"
   ]
  },
  {
   "cell_type": "code",
   "execution_count": null,
   "metadata": {},
   "outputs": [],
   "source": []
  }
 ],
 "metadata": {
  "kernelspec": {
   "display_name": "Python 3",
   "language": "python",
   "name": "python3"
  },
  "language_info": {
   "codemirror_mode": {
    "name": "ipython",
    "version": 3
   },
   "file_extension": ".py",
   "mimetype": "text/x-python",
   "name": "python",
   "nbconvert_exporter": "python",
   "pygments_lexer": "ipython3",
   "version": "3.7.3"
  }
 },
 "nbformat": 4,
 "nbformat_minor": 2
}
