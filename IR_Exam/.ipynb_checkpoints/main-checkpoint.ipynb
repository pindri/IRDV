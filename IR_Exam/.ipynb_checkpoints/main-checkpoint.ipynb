{
 "cells": [
  {
   "cell_type": "code",
   "execution_count": 1,
   "metadata": {},
   "outputs": [],
   "source": [
    "import numpy as np\n",
    "import pandas as pd"
   ]
  },
  {
   "cell_type": "code",
   "execution_count": 2,
   "metadata": {},
   "outputs": [],
   "source": [
    "import utilities # codeTimer context manager.\n",
    "import data_preparation # Load dataset and build required matrices.\n",
    "import factorisation # WALS factorisation.\n",
    "import recommender # Recommender system."
   ]
  },
  {
   "cell_type": "markdown",
   "metadata": {},
   "source": [
    "## Factorisation"
   ]
  },
  {
   "cell_type": "code",
   "execution_count": 3,
   "metadata": {},
   "outputs": [
    {
     "name": "stdout",
     "output_type": "stream",
     "text": [
      "The dataframe contains 610 users and 2999 items.\n",
      "Prediction error: 1133575640.90861\n"
     ]
    }
   ],
   "source": [
    "np.random.seed(17)\n",
    "\n",
    "mov, rat = data_preparation.importDataset()\n",
    "rec = recommender.recommenderSystem(mov, rat)\n",
    "rec.predictionError()"
   ]
  },
  {
   "cell_type": "code",
   "execution_count": 4,
   "metadata": {},
   "outputs": [
    {
     "name": "stdout",
     "output_type": "stream",
     "text": [
      "Test error: 1893085.9978277823\n",
      "Train error: 1893085.9978277823\n",
      "Executed 'WALS factorisation'.  Elapsed time: 42.469953s\n"
     ]
    }
   ],
   "source": [
    "reg_lambda = 0.1\n",
    "n_iter = 1\n",
    "\n",
    "with utilities.codeTimer(\"WALS factorisation\"):\n",
    "    rec.performFactorisation(reg_lambda, n_iter)"
   ]
  },
  {
   "cell_type": "markdown",
   "metadata": {},
   "source": [
    "## Recommendation"
   ]
  },
  {
   "cell_type": "code",
   "execution_count": 5,
   "metadata": {},
   "outputs": [],
   "source": [
    "def recommend(rec_system, user_id):\n",
    "    return rec_system.answerQuery(user_id)\n",
    "        \n",
    "def bestRated(rec_system, user_id):\n",
    "    user_movies = rec_system.getUserMovies(user_id)\n",
    "    return user_movies.sort_values(by = \"Rating\", ascending = False)"
   ]
  },
  {
   "cell_type": "code",
   "execution_count": 6,
   "metadata": {},
   "outputs": [
    {
     "data": {
      "text/html": [
       "<div>\n",
       "<style scoped>\n",
       "    .dataframe tbody tr th:only-of-type {\n",
       "        vertical-align: middle;\n",
       "    }\n",
       "\n",
       "    .dataframe tbody tr th {\n",
       "        vertical-align: top;\n",
       "    }\n",
       "\n",
       "    .dataframe thead th {\n",
       "        text-align: right;\n",
       "    }\n",
       "</style>\n",
       "<table border=\"1\" class=\"dataframe\">\n",
       "  <thead>\n",
       "    <tr style=\"text-align: right;\">\n",
       "      <th></th>\n",
       "      <th>MovieID</th>\n",
       "      <th>Prediction</th>\n",
       "      <th>Title</th>\n",
       "      <th>Genres</th>\n",
       "      <th>AVG_Rating</th>\n",
       "    </tr>\n",
       "  </thead>\n",
       "  <tbody>\n",
       "    <tr>\n",
       "      <th>0</th>\n",
       "      <td>378</td>\n",
       "      <td>3.99</td>\n",
       "      <td>Cliffhanger (1993)</td>\n",
       "      <td>Action|Adventure|Thriller</td>\n",
       "      <td>3.034653</td>\n",
       "    </tr>\n",
       "    <tr>\n",
       "      <th>1</th>\n",
       "      <td>138</td>\n",
       "      <td>3.98</td>\n",
       "      <td>Die Hard: With a Vengeance (1995)</td>\n",
       "      <td>Action|Crime|Thriller</td>\n",
       "      <td>3.555556</td>\n",
       "    </tr>\n",
       "    <tr>\n",
       "      <th>2</th>\n",
       "      <td>1209</td>\n",
       "      <td>3.66</td>\n",
       "      <td>Air Force One (1997)</td>\n",
       "      <td>Action|Thriller</td>\n",
       "      <td>3.344828</td>\n",
       "    </tr>\n",
       "    <tr>\n",
       "      <th>3</th>\n",
       "      <td>234</td>\n",
       "      <td>3.53</td>\n",
       "      <td>Madness of King George, The (1994)</td>\n",
       "      <td>Comedy|Drama</td>\n",
       "      <td>3.758065</td>\n",
       "    </tr>\n",
       "    <tr>\n",
       "      <th>4</th>\n",
       "      <td>551</td>\n",
       "      <td>3.49</td>\n",
       "      <td>James and the Giant Peach (1996)</td>\n",
       "      <td>Adventure|Animation|Children|Fantasy|Musical</td>\n",
       "      <td>3.448980</td>\n",
       "    </tr>\n",
       "    <tr>\n",
       "      <th>5</th>\n",
       "      <td>364</td>\n",
       "      <td>3.19</td>\n",
       "      <td>Beverly Hills Cop III (1994)</td>\n",
       "      <td>Action|Comedy|Crime|Thriller</td>\n",
       "      <td>2.720339</td>\n",
       "    </tr>\n",
       "    <tr>\n",
       "      <th>6</th>\n",
       "      <td>1135</td>\n",
       "      <td>3.17</td>\n",
       "      <td>Liar Liar (1997)</td>\n",
       "      <td>Comedy</td>\n",
       "      <td>3.033784</td>\n",
       "    </tr>\n",
       "    <tr>\n",
       "      <th>7</th>\n",
       "      <td>334</td>\n",
       "      <td>3.11</td>\n",
       "      <td>Speed (1994)</td>\n",
       "      <td>Action|Romance|Thriller</td>\n",
       "      <td>3.529240</td>\n",
       "    </tr>\n",
       "    <tr>\n",
       "      <th>8</th>\n",
       "      <td>9</td>\n",
       "      <td>3.07</td>\n",
       "      <td>GoldenEye (1995)</td>\n",
       "      <td>Action|Adventure|Thriller</td>\n",
       "      <td>3.496212</td>\n",
       "    </tr>\n",
       "    <tr>\n",
       "      <th>9</th>\n",
       "      <td>1224</td>\n",
       "      <td>3.07</td>\n",
       "      <td>Game, The (1997)</td>\n",
       "      <td>Drama|Mystery|Thriller</td>\n",
       "      <td>3.701299</td>\n",
       "    </tr>\n",
       "  </tbody>\n",
       "</table>\n",
       "</div>"
      ],
      "text/plain": [
       "   MovieID  Prediction                               Title  \\\n",
       "0      378        3.99                  Cliffhanger (1993)   \n",
       "1      138        3.98   Die Hard: With a Vengeance (1995)   \n",
       "2     1209        3.66                Air Force One (1997)   \n",
       "3      234        3.53  Madness of King George, The (1994)   \n",
       "4      551        3.49    James and the Giant Peach (1996)   \n",
       "5      364        3.19        Beverly Hills Cop III (1994)   \n",
       "6     1135        3.17                    Liar Liar (1997)   \n",
       "7      334        3.11                        Speed (1994)   \n",
       "8        9        3.07                    GoldenEye (1995)   \n",
       "9     1224        3.07                    Game, The (1997)   \n",
       "\n",
       "                                         Genres  AVG_Rating  \n",
       "0                     Action|Adventure|Thriller    3.034653  \n",
       "1                         Action|Crime|Thriller    3.555556  \n",
       "2                               Action|Thriller    3.344828  \n",
       "3                                  Comedy|Drama    3.758065  \n",
       "4  Adventure|Animation|Children|Fantasy|Musical    3.448980  \n",
       "5                  Action|Comedy|Crime|Thriller    2.720339  \n",
       "6                                        Comedy    3.033784  \n",
       "7                       Action|Romance|Thriller    3.529240  \n",
       "8                     Action|Adventure|Thriller    3.496212  \n",
       "9                        Drama|Mystery|Thriller    3.701299  "
      ]
     },
     "execution_count": 6,
     "metadata": {},
     "output_type": "execute_result"
    }
   ],
   "source": [
    "user_id = 4\n",
    "recommend(rec, user_id).head(10)"
   ]
  },
  {
   "cell_type": "code",
   "execution_count": 7,
   "metadata": {},
   "outputs": [
    {
     "data": {
      "text/html": [
       "<div>\n",
       "<style scoped>\n",
       "    .dataframe tbody tr th:only-of-type {\n",
       "        vertical-align: middle;\n",
       "    }\n",
       "\n",
       "    .dataframe tbody tr th {\n",
       "        vertical-align: top;\n",
       "    }\n",
       "\n",
       "    .dataframe thead th {\n",
       "        text-align: right;\n",
       "    }\n",
       "</style>\n",
       "<table border=\"1\" class=\"dataframe\">\n",
       "  <thead>\n",
       "    <tr style=\"text-align: right;\">\n",
       "      <th></th>\n",
       "      <th>MovieID</th>\n",
       "      <th>UserID</th>\n",
       "      <th>Genres</th>\n",
       "      <th>Title</th>\n",
       "      <th>Rating</th>\n",
       "    </tr>\n",
       "  </thead>\n",
       "  <tbody>\n",
       "    <tr>\n",
       "      <th>15876</th>\n",
       "      <td>508</td>\n",
       "      <td>4</td>\n",
       "      <td>Adventure|Drama|Western</td>\n",
       "      <td>Dances with Wolves (1990)</td>\n",
       "      <td>5.0</td>\n",
       "    </tr>\n",
       "    <tr>\n",
       "      <th>13038</th>\n",
       "      <td>413</td>\n",
       "      <td>4</td>\n",
       "      <td>Drama</td>\n",
       "      <td>In the Name of the Father (1993)</td>\n",
       "      <td>5.0</td>\n",
       "    </tr>\n",
       "    <tr>\n",
       "      <th>14108</th>\n",
       "      <td>461</td>\n",
       "      <td>4</td>\n",
       "      <td>Drama|War</td>\n",
       "      <td>Schindler's List (1993)</td>\n",
       "      <td>5.0</td>\n",
       "    </tr>\n",
       "    <tr>\n",
       "      <th>2626</th>\n",
       "      <td>52</td>\n",
       "      <td>4</td>\n",
       "      <td>Comedy|Drama|Romance</td>\n",
       "      <td>Postman, The (Postino, Il) (1994)</td>\n",
       "      <td>5.0</td>\n",
       "    </tr>\n",
       "    <tr>\n",
       "      <th>16731</th>\n",
       "      <td>513</td>\n",
       "      <td>4</td>\n",
       "      <td>Animation|Children|Fantasy|Musical</td>\n",
       "      <td>Pinocchio (1940)</td>\n",
       "      <td>5.0</td>\n",
       "    </tr>\n",
       "    <tr>\n",
       "      <th>16585</th>\n",
       "      <td>512</td>\n",
       "      <td>4</td>\n",
       "      <td>Animation|Children|Fantasy|Musical|Romance|IMAX</td>\n",
       "      <td>Beauty and the Beast (1991)</td>\n",
       "      <td>5.0</td>\n",
       "    </tr>\n",
       "    <tr>\n",
       "      <th>6565</th>\n",
       "      <td>211</td>\n",
       "      <td>4</td>\n",
       "      <td>Crime|Drama</td>\n",
       "      <td>Heavenly Creatures (1994)</td>\n",
       "      <td>5.0</td>\n",
       "    </tr>\n",
       "    <tr>\n",
       "      <th>16507</th>\n",
       "      <td>511</td>\n",
       "      <td>4</td>\n",
       "      <td>Animation|Children|Drama|Fantasy|Musical</td>\n",
       "      <td>Snow White and the Seven Dwarfs (1937)</td>\n",
       "      <td>5.0</td>\n",
       "    </tr>\n",
       "    <tr>\n",
       "      <th>7862</th>\n",
       "      <td>257</td>\n",
       "      <td>4</td>\n",
       "      <td>Comedy|Crime|Drama|Thriller</td>\n",
       "      <td>Pulp Fiction (1994)</td>\n",
       "      <td>5.0</td>\n",
       "    </tr>\n",
       "    <tr>\n",
       "      <th>7606</th>\n",
       "      <td>251</td>\n",
       "      <td>4</td>\n",
       "      <td>Crime|Drama</td>\n",
       "      <td>Once Were Warriors (1994)</td>\n",
       "      <td>5.0</td>\n",
       "    </tr>\n",
       "  </tbody>\n",
       "</table>\n",
       "</div>"
      ],
      "text/plain": [
       "       MovieID  UserID                                           Genres  \\\n",
       "15876      508       4                          Adventure|Drama|Western   \n",
       "13038      413       4                                            Drama   \n",
       "14108      461       4                                        Drama|War   \n",
       "2626        52       4                             Comedy|Drama|Romance   \n",
       "16731      513       4               Animation|Children|Fantasy|Musical   \n",
       "16585      512       4  Animation|Children|Fantasy|Musical|Romance|IMAX   \n",
       "6565       211       4                                      Crime|Drama   \n",
       "16507      511       4         Animation|Children|Drama|Fantasy|Musical   \n",
       "7862       257       4                      Comedy|Crime|Drama|Thriller   \n",
       "7606       251       4                                      Crime|Drama   \n",
       "\n",
       "                                        Title  Rating  \n",
       "15876               Dances with Wolves (1990)     5.0  \n",
       "13038        In the Name of the Father (1993)     5.0  \n",
       "14108                 Schindler's List (1993)     5.0  \n",
       "2626        Postman, The (Postino, Il) (1994)     5.0  \n",
       "16731                        Pinocchio (1940)     5.0  \n",
       "16585             Beauty and the Beast (1991)     5.0  \n",
       "6565                Heavenly Creatures (1994)     5.0  \n",
       "16507  Snow White and the Seven Dwarfs (1937)     5.0  \n",
       "7862                      Pulp Fiction (1994)     5.0  \n",
       "7606                Once Were Warriors (1994)     5.0  "
      ]
     },
     "execution_count": 7,
     "metadata": {},
     "output_type": "execute_result"
    }
   ],
   "source": [
    "bestRated(rec, user_id).head(10)"
   ]
  },
  {
   "cell_type": "markdown",
   "metadata": {},
   "source": [
    "## TBD: test recommandation"
   ]
  },
  {
   "cell_type": "markdown",
   "metadata": {},
   "source": [
    "## Similar items"
   ]
  },
  {
   "cell_type": "code",
   "execution_count": 8,
   "metadata": {},
   "outputs": [
    {
     "data": {
      "text/html": [
       "<div>\n",
       "<style scoped>\n",
       "    .dataframe tbody tr th:only-of-type {\n",
       "        vertical-align: middle;\n",
       "    }\n",
       "\n",
       "    .dataframe tbody tr th {\n",
       "        vertical-align: top;\n",
       "    }\n",
       "\n",
       "    .dataframe thead th {\n",
       "        text-align: right;\n",
       "    }\n",
       "</style>\n",
       "<table border=\"1\" class=\"dataframe\">\n",
       "  <thead>\n",
       "    <tr style=\"text-align: right;\">\n",
       "      <th></th>\n",
       "      <th>MovieID</th>\n",
       "      <th>Title</th>\n",
       "      <th>Genres</th>\n",
       "      <th>Similarity</th>\n",
       "    </tr>\n",
       "  </thead>\n",
       "  <tbody>\n",
       "    <tr>\n",
       "      <th>474</th>\n",
       "      <td>474</td>\n",
       "      <td>Blade Runner (1982)</td>\n",
       "      <td>Action|Sci-Fi|Thriller</td>\n",
       "      <td>1.000000</td>\n",
       "    </tr>\n",
       "    <tr>\n",
       "      <th>706</th>\n",
       "      <td>706</td>\n",
       "      <td>2001: A Space Odyssey (1968)</td>\n",
       "      <td>Adventure|Drama|Sci-Fi</td>\n",
       "      <td>0.733741</td>\n",
       "    </tr>\n",
       "    <tr>\n",
       "      <th>2393</th>\n",
       "      <td>2393</td>\n",
       "      <td>Galaxy Quest (1999)</td>\n",
       "      <td>Adventure|Comedy|Sci-Fi</td>\n",
       "      <td>0.703120</td>\n",
       "    </tr>\n",
       "    <tr>\n",
       "      <th>1305</th>\n",
       "      <td>1305</td>\n",
       "      <td>Dark City (1998)</td>\n",
       "      <td>Adventure|Film-Noir|Sci-Fi|Thriller</td>\n",
       "      <td>0.692184</td>\n",
       "    </tr>\n",
       "    <tr>\n",
       "      <th>833</th>\n",
       "      <td>833</td>\n",
       "      <td>Crying Game, The (1992)</td>\n",
       "      <td>Drama|Romance|Thriller</td>\n",
       "      <td>0.679730</td>\n",
       "    </tr>\n",
       "    <tr>\n",
       "      <th>896</th>\n",
       "      <td>896</td>\n",
       "      <td>One Flew Over the Cuckoo's Nest (1975)</td>\n",
       "      <td>Drama</td>\n",
       "      <td>0.672173</td>\n",
       "    </tr>\n",
       "    <tr>\n",
       "      <th>2233</th>\n",
       "      <td>2233</td>\n",
       "      <td>Time Bandits (1981)</td>\n",
       "      <td>Adventure|Comedy|Fantasy|Sci-Fi</td>\n",
       "      <td>0.671319</td>\n",
       "    </tr>\n",
       "    <tr>\n",
       "      <th>2350</th>\n",
       "      <td>2350</td>\n",
       "      <td>Fisher King, The (1991)</td>\n",
       "      <td>Comedy|Drama|Fantasy|Romance</td>\n",
       "      <td>0.669430</td>\n",
       "    </tr>\n",
       "    <tr>\n",
       "      <th>2316</th>\n",
       "      <td>2316</td>\n",
       "      <td>Adventures of Buckaroo Banzai Across the 8th D...</td>\n",
       "      <td>Adventure|Comedy|Sci-Fi</td>\n",
       "      <td>0.668396</td>\n",
       "    </tr>\n",
       "    <tr>\n",
       "      <th>1485</th>\n",
       "      <td>1485</td>\n",
       "      <td>Metropolis (1927)</td>\n",
       "      <td>Drama|Sci-Fi</td>\n",
       "      <td>0.665558</td>\n",
       "    </tr>\n",
       "  </tbody>\n",
       "</table>\n",
       "</div>"
      ],
      "text/plain": [
       "      MovieID                                              Title  \\\n",
       "474       474                                Blade Runner (1982)   \n",
       "706       706                       2001: A Space Odyssey (1968)   \n",
       "2393     2393                                Galaxy Quest (1999)   \n",
       "1305     1305                                   Dark City (1998)   \n",
       "833       833                            Crying Game, The (1992)   \n",
       "896       896             One Flew Over the Cuckoo's Nest (1975)   \n",
       "2233     2233                                Time Bandits (1981)   \n",
       "2350     2350                            Fisher King, The (1991)   \n",
       "2316     2316  Adventures of Buckaroo Banzai Across the 8th D...   \n",
       "1485     1485                                  Metropolis (1927)   \n",
       "\n",
       "                                   Genres  Similarity  \n",
       "474                Action|Sci-Fi|Thriller    1.000000  \n",
       "706                Adventure|Drama|Sci-Fi    0.733741  \n",
       "2393              Adventure|Comedy|Sci-Fi    0.703120  \n",
       "1305  Adventure|Film-Noir|Sci-Fi|Thriller    0.692184  \n",
       "833                Drama|Romance|Thriller    0.679730  \n",
       "896                                 Drama    0.672173  \n",
       "2233      Adventure|Comedy|Fantasy|Sci-Fi    0.671319  \n",
       "2350         Comedy|Drama|Fantasy|Romance    0.669430  \n",
       "2316              Adventure|Comedy|Sci-Fi    0.668396  \n",
       "1485                         Drama|Sci-Fi    0.665558  "
      ]
     },
     "execution_count": 8,
     "metadata": {},
     "output_type": "execute_result"
    }
   ],
   "source": [
    "# Some suggestions:\n",
    "#\n",
    "# 911: Star Wars Episode VI\n",
    "# 786: Dumbo\n",
    "# 957: The Shining\n",
    "# 474: Blade Runner\n",
    "\n",
    "rec.suggestSimilar(474)"
   ]
  },
  {
   "cell_type": "markdown",
   "metadata": {},
   "source": [
    "## New user recommendation"
   ]
  },
  {
   "cell_type": "code",
   "execution_count": 9,
   "metadata": {},
   "outputs": [
    {
     "data": {
      "text/plain": [
       "(610, 2999)"
      ]
     },
     "execution_count": 9,
     "metadata": {},
     "output_type": "execute_result"
    }
   ],
   "source": [
    "np.random.seed(17)\n",
    "\n",
    "new_user, new_user_id = rec.generateNewUser(130)\n",
    "np.shape(rec.R)"
   ]
  },
  {
   "cell_type": "code",
   "execution_count": 10,
   "metadata": {},
   "outputs": [
    {
     "data": {
      "text/plain": [
       "(611, 2999)"
      ]
     },
     "execution_count": 10,
     "metadata": {},
     "output_type": "execute_result"
    }
   ],
   "source": [
    "rec.answerQueryNewUser(new_user)\n",
    "np.shape(rec.R)"
   ]
  },
  {
   "cell_type": "code",
   "execution_count": null,
   "metadata": {},
   "outputs": [],
   "source": [
    "with utilities.codeTimer(\"New user factorisation\"):\n",
    "    rec.addNewUser(reg_lambda, n_iter)"
   ]
  },
  {
   "cell_type": "code",
   "execution_count": null,
   "metadata": {},
   "outputs": [],
   "source": [
    "recommend(rec, new_user_id).head(10)"
   ]
  },
  {
   "cell_type": "code",
   "execution_count": null,
   "metadata": {},
   "outputs": [],
   "source": [
    "bestRated(rec, new_user_id).head(10)"
   ]
  },
  {
   "cell_type": "markdown",
   "metadata": {},
   "source": [
    "# OLD CODE, TO BE REFACTORED"
   ]
  },
  {
   "cell_type": "markdown",
   "metadata": {},
   "source": [
    "## Test recom"
   ]
  },
  {
   "cell_type": "markdown",
   "metadata": {},
   "source": [
    "In the _ml-latest-small_ dataset `MovieId`s do not increase continuously. Even if less than 10000 movies are present, the index goes up to ~19000. In order to fix this unconvenience and make the dataframe indexing more intuitive, a more appropriate index has been built. If necessary, a reverse conversion to the original one could be achieved by storing a two column conversion dataframe."
   ]
  },
  {
   "cell_type": "code",
   "execution_count": 11,
   "metadata": {
    "scrolled": true
   },
   "outputs": [
    {
     "ename": "NameError",
     "evalue": "name 'R' is not defined",
     "output_type": "error",
     "traceback": [
      "\u001b[0;31m---------------------------------------------------------------------------\u001b[0m",
      "\u001b[0;31mNameError\u001b[0m                                 Traceback (most recent call last)",
      "\u001b[0;32m<ipython-input-11-ded2238649c6>\u001b[0m in \u001b[0;36m<module>\u001b[0;34m\u001b[0m\n\u001b[1;32m     11\u001b[0m \u001b[0;34m\u001b[0m\u001b[0m\n\u001b[1;32m     12\u001b[0m \u001b[0;31m# Random boolean, TRUE for test set.\u001b[0m\u001b[0;34m\u001b[0m\u001b[0;34m\u001b[0m\u001b[0;34m\u001b[0m\u001b[0m\n\u001b[0;32m---> 13\u001b[0;31m mask = np.random.choice(a = [False, True], size = R.size,\n\u001b[0m\u001b[1;32m     14\u001b[0m                         p = [p_test, 1 - p_test]).reshape(R.shape)\n\u001b[1;32m     15\u001b[0m \u001b[0;34m\u001b[0m\u001b[0m\n",
      "\u001b[0;31mNameError\u001b[0m: name 'R' is not defined"
     ]
    }
   ],
   "source": [
    "# Build R matrix and dividing training/test sets.\n",
    "\n",
    "from scipy.sparse import coo_matrix\n",
    "\n",
    "np.random.seed(17)\n",
    "\n",
    "# Dividing training and test set.\n",
    "\n",
    "# Test set percentage.\n",
    "p_test = 0.2\n",
    "\n",
    "# Random boolean, TRUE for test set.\n",
    "mask = np.random.choice(a = [False, True], size = R.size,\n",
    "                        p = [p_test, 1 - p_test]).reshape(R.shape)\n",
    "\n",
    "R_test = np.zeros(R.shape)\n",
    "R_test[mask] = R[mask]\n",
    "\n",
    "R_train = np.zeros(R.shape)\n",
    "R_train[np.invert(mask)] = R[np.invert(mask)]\n",
    "\n",
    "# Are the R_test and R_train matrices correctly built?\n",
    "print(\"R_test and R_train are correctly built: {}\"\n",
    "      .format(np.array_equal(R, R_test + R_train)))"
   ]
  },
  {
   "cell_type": "code",
   "execution_count": null,
   "metadata": {},
   "outputs": [],
   "source": [
    "# Compares recommendation on test set with actual ratings.\n",
    "\n",
    "def recommendTest(user_id, R_test, predicted_ratings):\n",
    "    \"\"\"\n",
    "    TBD\n",
    "    \"\"\"\n",
    "    pred = np.around(predicted_ratings, 2)[user_id]\n",
    "    # Unseen movies (test set ones)\n",
    "    idx = np.where(R_test[user_id] != 0)[0]\n",
    "    # idx = np.where(R[user] == 0)[0]\n",
    "    movie_pred = list(zip(idx, pred[idx]))\n",
    "    recom_df = pd.DataFrame(movie_pred, columns = ['MovieID', 'Prediction'])\n",
    "\n",
    "    recom_df = pd.merge(recom_df, R_df, on = \"MovieID\", how = \"inner\")\n",
    "    recom_df = recom_df[(recom_df.UserID == user_id)]\n",
    "    recom_df = recom_df.sort_values(by = 'Prediction', ascending = False)\n",
    "    \n",
    "    return recom_df"
   ]
  },
  {
   "cell_type": "code",
   "execution_count": null,
   "metadata": {},
   "outputs": [],
   "source": [
    "#user_id = 6\n",
    "#recommendTest(user_id, R_test, predicted_ratings).head(10)"
   ]
  },
  {
   "cell_type": "markdown",
   "metadata": {},
   "source": [
    "## Suggesting similar items"
   ]
  },
  {
   "cell_type": "markdown",
   "metadata": {},
   "source": [
    "## Recommendation for a new user"
   ]
  },
  {
   "cell_type": "code",
   "execution_count": null,
   "metadata": {},
   "outputs": [],
   "source": [
    "from random import sample, choice\n",
    "\n",
    "\n",
    "\n",
    "def updateMatrices(new_user, R, C, X):\n",
    "    # Adding new user to R matrix.\n",
    "    R = np.vstack((R, new_user))\n",
    "    C = buildWeightMatrix(R, alpha = 10)\n",
    "    X = np.vstack((X, np.random.rand(np.shape(X)[1])))\n",
    "    \n",
    "    return R, C, X\n",
    "\n",
    "\n",
    "def updateDataFrame(R_df, new_user):    \n",
    "    new_df = pd.DataFrame(new_user, columns=[\"Rating\"])\n",
    "    new_df[\"MovieID\"] = range(0, len(new_user))\n",
    "    new_df[\"UserID\"] = R_df[\"UserID\"].max() + 1\n",
    "    new_df = new_df[new_df[\"Rating\"] != 0]\n",
    "    new_df = pd.merge(new_df, movies_df, on = \"MovieID\", how = \"inner\")\n",
    "    new_df = new_df[['MovieID', 'UserID', 'Genres', 'Title', 'Rating']]\n",
    "    \n",
    "    R_df = R_df.append(new_df, ignore_index = True).sort_values(by = [\"MovieID\", \"UserID\"])\n",
    "    \n",
    "    return R_df"
   ]
  },
  {
   "cell_type": "code",
   "execution_count": null,
   "metadata": {},
   "outputs": [],
   "source": [
    "def newUserSinglePassWALS(new_user, R, C, X, Y, reg_lambda):\n",
    "    \n",
    "    \n",
    "    # Updating R, C and X matrices.\n",
    "    R = np.vstack((R, new_user))\n",
    "    \n",
    "    M = np.shape(X)[0]\n",
    "    K = np.shape(X)[1]    \n",
    "    \n",
    "    # Perform user matrix optimisation.\n",
    "    for u in range(1, M):\n",
    "        Cu = np.diag(C[u, :])\n",
    "        # A X_u = b\n",
    "        A = multi_dot([Y.T, Cu, Y]) + reg_lambda * np.eye(K)\n",
    "        b = multi_dot([Y.T, Cu, R[u, :]])\n",
    "        X_u = np.linalg.solve(A, b)\n",
    "        \n",
    "        X[u,] = X_u"
   ]
  },
  {
   "cell_type": "code",
   "execution_count": null,
   "metadata": {},
   "outputs": [],
   "source": [
    "# Creating new user and updating both matrices and the R_df dataframe.\n",
    "\n",
    "np.random.seed(17)\n",
    "\n",
    "new_user, new_user_id = generateNewUser(R, 130)\n",
    "\n",
    "R, C, X = updateMatrices(new_user, R, C, X)\n",
    "R_df = updateDataFrame(R_df, new_user)\n",
    "\n",
    "with codeTimer(\"New user recomputation\"):\n",
    "    newUserSinglePassWALS(new_user, R, C, X, Y, reg_lambda)"
   ]
  },
  {
   "cell_type": "code",
   "execution_count": null,
   "metadata": {},
   "outputs": [],
   "source": [
    "R"
   ]
  },
  {
   "cell_type": "code",
   "execution_count": null,
   "metadata": {},
   "outputs": [],
   "source": [
    "predicted_ratings = predict(X, Y)\n",
    "recommendNew(new_user_id, R, predicted_ratings).head(10)"
   ]
  },
  {
   "cell_type": "code",
   "execution_count": null,
   "metadata": {},
   "outputs": [],
   "source": [
    "R_df[R_df['UserID'] == new_user_id].sort_values(by = 'Rating', ascending = False).head(15)"
   ]
  },
  {
   "cell_type": "markdown",
   "metadata": {},
   "source": [
    "## Cold start problem"
   ]
  },
  {
   "cell_type": "code",
   "execution_count": null,
   "metadata": {},
   "outputs": [],
   "source": [
    "#test = R\n",
    "R"
   ]
  },
  {
   "cell_type": "code",
   "execution_count": null,
   "metadata": {},
   "outputs": [],
   "source": [
    "np.shape(new_user)"
   ]
  },
  {
   "cell_type": "code",
   "execution_count": null,
   "metadata": {},
   "outputs": [],
   "source": [
    "np.insert(test, new_user, axis = 0)"
   ]
  },
  {
   "cell_type": "code",
   "execution_count": null,
   "metadata": {},
   "outputs": [],
   "source": [
    "R = np.vstack((R, new_user))"
   ]
  },
  {
   "cell_type": "code",
   "execution_count": null,
   "metadata": {},
   "outputs": [],
   "source": [
    "plt.plot(new_user)"
   ]
  },
  {
   "cell_type": "code",
   "execution_count": null,
   "metadata": {},
   "outputs": [],
   "source": [
    "import matplotlib.pyplot as plt"
   ]
  },
  {
   "cell_type": "markdown",
   "metadata": {},
   "source": [
    "## Classify test commit."
   ]
  },
  {
   "cell_type": "code",
   "execution_count": null,
   "metadata": {},
   "outputs": [],
   "source": [
    "class RecommenderSystem:\n",
    "    def __init__(self, )"
   ]
  },
  {
   "cell_type": "code",
   "execution_count": null,
   "metadata": {},
   "outputs": [],
   "source": [
    "def recommend(rec_system, user_id):\n",
    "    recom_df = rec_system.answer_query(user_id)\n",
    "    with pd.option_context('display.max_rows', 10,\n",
    "                           'display.max_columns', None):  \n",
    "        print(df)"
   ]
  },
  {
   "cell_type": "code",
   "execution_count": null,
   "metadata": {},
   "outputs": [],
   "source": []
  }
 ],
 "metadata": {
  "kernelspec": {
   "display_name": "Python 3",
   "language": "python",
   "name": "python3"
  },
  "language_info": {
   "codemirror_mode": {
    "name": "ipython",
    "version": 3
   },
   "file_extension": ".py",
   "mimetype": "text/x-python",
   "name": "python",
   "nbconvert_exporter": "python",
   "pygments_lexer": "ipython3",
   "version": "3.7.3"
  }
 },
 "nbformat": 4,
 "nbformat_minor": 4
}
